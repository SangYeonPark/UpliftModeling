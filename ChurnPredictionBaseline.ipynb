{
  "nbformat": 4,
  "nbformat_minor": 0,
  "metadata": {
    "colab": {
      "name": "Baseline (3).ipynb",
      "provenance": [],
      "collapsed_sections": [],
      "machine_shape": "hm"
    },
    "kernelspec": {
      "display_name": "Python 3",
      "language": "python",
      "name": "python3"
    },
    "language_info": {
      "codemirror_mode": {
        "name": "ipython",
        "version": 3
      },
      "file_extension": ".py",
      "mimetype": "text/x-python",
      "name": "python",
      "nbconvert_exporter": "python",
      "pygments_lexer": "ipython3",
      "version": "3.7.3"
    }
  },
  "cells": [
    {
      "cell_type": "markdown",
      "metadata": {
        "colab_type": "text",
        "id": "3_QkgnAeElN_"
      },
      "source": [
        "Paper: https://www.andrew.cmu.edu/user/lakoglu/pubs/StackOverflow-churn.pdf\n",
        "\n",
        "Description of datasets: https://ia800107.us.archive.org/27/items/stackexchange/readme.txt\n",
        "\n",
        "Site for download of datasets: https://archive.org/details/stackexchange\n",
        "\n",
        "This code has 6 steps\n",
        "\n",
        "1. Load StackOverflow datasets as dataframe\n",
        "2. Extract and label the datasets for each task\n",
        "3. Extract features for each task\n",
        "4. Analyze features\n",
        "5. Train models for each task with the features\n",
        "6. Quantify the importance of each feature category"
      ]
    },
    {
      "cell_type": "markdown",
      "metadata": {
        "colab_type": "text",
        "id": "BIq6tvSgGX_u"
      },
      "source": [
        "1. Load StackOverflow datasets as dataframe"
      ]
    },
    {
      "cell_type": "code",
      "metadata": {
        "colab_type": "code",
        "id": "SkhHqE16EqWg",
        "outputId": "688d9aa2-873e-4e88-ed18-aff15daa2b25",
        "colab": {
          "base_uri": "https://localhost:8080/",
          "height": 105
        }
      },
      "source": [
        "import sys\n",
        "!{sys.executable} -m pip install xmltodict"
      ],
      "execution_count": 4,
      "outputs": [
        {
          "output_type": "stream",
          "text": [
            "Collecting xmltodict\n",
            "  Downloading https://files.pythonhosted.org/packages/28/fd/30d5c1d3ac29ce229f6bdc40bbc20b28f716e8b363140c26eff19122d8a5/xmltodict-0.12.0-py2.py3-none-any.whl\n",
            "Installing collected packages: xmltodict\n",
            "Successfully installed xmltodict-0.12.0\n"
          ],
          "name": "stdout"
        }
      ]
    },
    {
      "cell_type": "code",
      "metadata": {
        "colab_type": "code",
        "id": "fsdakpOMEuhl",
        "colab": {}
      },
      "source": [
        "import xmltodict\n",
        "import pandas as pd\n",
        "import numpy as np\n",
        "import matplotlib.pyplot as plt\n",
        "import io"
      ],
      "execution_count": 0,
      "outputs": []
    },
    {
      "cell_type": "code",
      "metadata": {
        "colab_type": "code",
        "id": "0WX1fzL0Ezx5",
        "colab": {}
      },
      "source": [
        "!pip install -U -q PyDrive\n",
        "from pydrive.auth import GoogleAuth\n",
        "from pydrive.drive import GoogleDrive\n",
        "from google.colab import auth\n",
        "from oauth2client.client import GoogleCredentials"
      ],
      "execution_count": 0,
      "outputs": []
    },
    {
      "cell_type": "code",
      "metadata": {
        "colab_type": "code",
        "id": "2r9tJIIxE1vI",
        "colab": {}
      },
      "source": [
        "auth.authenticate_user()\n",
        "gauth = GoogleAuth()\n",
        "gauth.credentials = GoogleCredentials.get_application_default()\n",
        "gdrive = GoogleDrive(gauth)"
      ],
      "execution_count": 0,
      "outputs": []
    },
    {
      "cell_type": "code",
      "metadata": {
        "colab_type": "code",
        "id": "UIyjk-t9E3jo",
        "colab": {}
      },
      "source": [
        "def store_df_at_google_drive(fname, df):\n",
        "    s = io.StringIO()\n",
        "    df.to_csv(s)\n",
        "    uploaded = gdrive.CreateFile({'title': fname, 'parents':[{'id': 'root'}]})\n",
        "    uploaded.SetContentString(s.getvalue())\n",
        "    uploaded.Upload()\n",
        "    print('Uploaded file with ID {}'.format(uploaded.get('id')))\n",
        "\n",
        "def load_df_at_google_drive(fname):\n",
        "    file_list = gdrive.ListFile({'q': \"'root' in parents and trashed=false\"}).GetList()\n",
        "    for file1 in file_list:\n",
        "        if (file1['title'] == fname):\n",
        "            downloaded = gdrive.CreateFile({'id': file1['id']})\n",
        "            s = io.StringIO(downloaded.GetContentString())\n",
        "            return pd.read_csv(s)\n",
        "    \n",
        "def load_dataset_from_google_drive(dir_id):\n",
        "    files = []\n",
        "    file_list = gdrive.ListFile({'q': \"'{}' in parents\".format(dir_id)}).GetList()\n",
        "    for f in file_list:\n",
        "      if f['title'] in ['Users.xml', 'Posts.xml','users_reduce.pkl', 'posts_reduce.pkl']:\n",
        "          print('  Load file: {}'.format(f['title']))\n",
        "          f_ = gdrive.CreateFile({'id': f['id']})\n",
        "          f_.GetContentFile(f['title'])\n",
        "          files.append(f['title'])\n",
        "    return files"
      ],
      "execution_count": 0,
      "outputs": []
    },
    {
      "cell_type": "code",
      "metadata": {
        "colab_type": "code",
        "id": "p_9rM193FeAn",
        "colab": {
          "base_uri": "https://localhost:8080/",
          "height": 51
        },
        "outputId": "80d4872a-a65b-4f11-9311-9fd2928178c7"
      },
      "source": [
        "files = load_dataset_from_google_drive('1Fp_7GDH_t7xfnU8aXeKrcBC54_nECOcu') "
      ],
      "execution_count": 9,
      "outputs": [
        {
          "output_type": "stream",
          "text": [
            "  Load file: users_reduce.pkl\n",
            "  Load file: posts_reduce.pkl\n"
          ],
          "name": "stdout"
        }
      ]
    },
    {
      "cell_type": "code",
      "metadata": {
        "colab_type": "code",
        "id": "lbh_OQyiGK2Z",
        "colab": {
          "base_uri": "https://localhost:8080/",
          "height": 34
        },
        "outputId": "81dc1df7-9512-4c50-cd29-29c3fef414b6"
      },
      "source": [
        "users_df = pd.read_pickle(\"{}.pkl\".format('users_reduce'))   # shape: (992,110, 3)\n",
        "posts_df = pd.read_pickle(\"{}.pkl\".format('posts_reduce'))   # shape: (11,324,326, 10)\n",
        "\n",
        "users_df.shape, posts_df.shape   # Total dataset"
      ],
      "execution_count": 10,
      "outputs": [
        {
          "output_type": "execute_result",
          "data": {
            "text/plain": [
              "((992110, 3), (11324326, 10))"
            ]
          },
          "metadata": {
            "tags": []
          },
          "execution_count": 10
        }
      ]
    },
    {
      "cell_type": "markdown",
      "metadata": {
        "colab_type": "text",
        "id": "ugS0FTGWGhg9"
      },
      "source": [
        "2. Extract and label the datasets for each tasks\n",
        "\n",
        "You should extract the dataset for the period of the dataset: July 31, 2008 ~ July 31, 2012\n",
        "\n",
        "There are 2 tasks:\n",
        "\n",
        "A. After a user's K-th post, predict how likely it is that the user will churn\n",
        "\n",
        "B. After the T-th day from the account creation of a user, predict how likely it is that the user will churn"
      ]
    },
    {
      "cell_type": "code",
      "metadata": {
        "colab_type": "code",
        "id": "ztCnzaoPGQTJ",
        "colab": {
          "base_uri": "https://localhost:8080/",
          "height": 34
        },
        "outputId": "0f9fb17a-0b30-419c-9b92-979d6d4603e0"
      },
      "source": [
        "def getIthOfPosts(posts):\n",
        "    print('getIthOfPosts')\n",
        "    posts.sort_values(by=['OwnerUserId', 'CreationDate'], inplace=True)\n",
        "    posts.reset_index(level=0, inplace=True)\n",
        "    posts['id_owner_time'] = posts.index\n",
        "    first_posts = posts.groupby('OwnerUserId')['id_owner_time'].min().to_frame()\n",
        "    tmp = posts.join(first_posts, on='OwnerUserId', how='inner', lsuffix='F', rsuffix='P')\n",
        "    posts['ith'] = tmp['id_owner_timeF'] - tmp['id_owner_timeP'] + 1\n",
        "    posts = posts.drop(['id_owner_time'], axis=1)\n",
        "    return posts\n",
        "\n",
        "# You should extract the dataset for the period of the dataset: July 31, 2008 ~  July 31, 2012\n",
        "start_time = pd.to_datetime('2008-07-31')\n",
        "end_time = pd.to_datetime('2012-07-31')\n",
        "end_time_2 = pd.to_datetime('2012-01-31')\n",
        "\n",
        "posts_df = posts_df[(posts_df['CreationDate'] >= start_time) & (posts_df['CreationDate'] <= end_time)]\n",
        "users_df = users_df[(users_df['CreationDate'] >= start_time) & (users_df['CreationDate'] <= end_time_2)]\n",
        "\n",
        "\n",
        "posts_df = getIthOfPosts(posts_df)"
      ],
      "execution_count": 11,
      "outputs": [
        {
          "output_type": "stream",
          "text": [
            "getIthOfPosts\n"
          ],
          "name": "stdout"
        }
      ]
    },
    {
      "cell_type": "code",
      "metadata": {
        "colab_type": "code",
        "id": "azQSCsXHHAza",
        "colab": {}
      },
      "source": [
        "# Dataset in Task 1\n",
        "#   Posts: Extract K posts of each user\n",
        "#   Users: Extract users who post at least K\n",
        "\n",
        "\n",
        "def getTask1Posts(posts, K):\n",
        "    tmp = posts[posts['ith'] == K]['OwnerUserId'].to_frame()\n",
        "    tmp = tmp.set_index('OwnerUserId')\n",
        "    tmp = posts[posts['OwnerUserId'].isin(tmp.index)]\n",
        "    return tmp[tmp['ith'] <= K]\n",
        "\n",
        "\n",
        "def getTask1Users(users, posts, K):\n",
        "    users['num_posts'] = posts.groupby('OwnerUserId')['OwnerUserId'].count()\n",
        "    users = users[users['num_posts'] >= K]\n",
        "    return users\n"
      ],
      "execution_count": 0,
      "outputs": []
    },
    {
      "cell_type": "code",
      "metadata": {
        "colab_type": "code",
        "id": "xlsZBbM8ctQv",
        "colab": {}
      },
      "source": [
        "list_of_K = range(1, 21)\n",
        "users_of_task1, posts_of_task1 = {}, {}\n",
        "\n",
        "\n",
        "for K in list_of_K:\n",
        "    posts_of_task1[K] = getTask1Posts(posts_df, K)\n",
        "    users_of_task1[K] = getTask1Users(users_df, posts_df, K)"
      ],
      "execution_count": 0,
      "outputs": []
    },
    {
      "cell_type": "code",
      "metadata": {
        "colab_type": "code",
        "id": "OpHDgehj4gde",
        "colab": {
          "base_uri": "https://localhost:8080/",
          "height": 326
        },
        "outputId": "0d8c95bf-43f2-4df7-cbb1-8df93c5803cf"
      },
      "source": [
        "# Churn in Task 1\n",
        "#   Churners: Users who did not post for at least 6 months from their K-th post \n",
        "#   Stayers:  Users who created at least one post within the 6 months from their K-th post\n",
        "\n",
        "def prepareFeaturesTask1(users, posts, K):\n",
        "    tmp = posts[posts['ith']==K]['OwnerUserId'].to_frame()\n",
        "    tmp = tmp.set_index('OwnerUserId')\n",
        "    posts = posts[posts['OwnerUserId'].isin(tmp.index)]\n",
        "\n",
        "    posts_task = posts[posts['OwnerUserId'].isin(users.index)]\n",
        "    posts_Kth_time = posts_task[posts_task['ith']==K]\n",
        "    posts_Kth_time = posts_Kth_time.set_index('OwnerUserId')['CreationDate']\n",
        "    posts_deadline = posts_Kth_time + pd.tseries.offsets.DateOffset(months=6)\n",
        "    \n",
        "    posts_stayer = posts_task[posts_task['ith'] > K].groupby('OwnerUserId')['CreationDate'].min().to_frame()\n",
        "    posts_stayer = posts_stayer.merge(posts_deadline, on='OwnerUserId', how='left', suffixes=('_left', '_right'))\n",
        "    \n",
        "    posts_churner1 = posts_stayer[posts_stayer['CreationDate_left'] > posts_stayer['CreationDate_right']]\n",
        "    posts_churner1['is_churn'] = 1\n",
        "    posts_churner1 = posts_churner1[['is_churn']]\n",
        "    posts_stayer = posts_stayer[posts_stayer['CreationDate_left'] <= posts_stayer['CreationDate_right']]\n",
        "    posts_stayer['is_churn'] = 0    \n",
        "    posts_stayer = posts_stayer[['is_churn']]\n",
        "       \n",
        "    posts_churner2 = posts_task[posts_task['ith'] >= K].groupby('OwnerUserId').count()\n",
        "    posts_churner2 = posts_churner2[posts_churner2['CreationDate'] == 1][['CreationDate']]\n",
        "    posts_churner2['is_churn'] = 1\n",
        "    posts_churner2 = posts_churner2[['is_churn']]\n",
        "    \n",
        "    posts = pd.concat([posts_stayer, posts_churner1, posts_churner2])\n",
        "    posts = posts.rename(columns={'OwnerUserId': 'Id'})\n",
        "    users['is_churn'] = 0\n",
        "    users.update(posts)\n",
        "    return users\n",
        "\n",
        "features_of_task1 = {}\n",
        "\n",
        "for K in list_of_K:\n",
        "    features_of_task1[K] = prepareFeaturesTask1(users_of_task1[K], posts_df, K)\n",
        "  "
      ],
      "execution_count": 14,
      "outputs": [
        {
          "output_type": "stream",
          "text": [
            "/usr/local/lib/python3.6/dist-packages/ipykernel_launcher.py:16: SettingWithCopyWarning: \n",
            "A value is trying to be set on a copy of a slice from a DataFrame.\n",
            "Try using .loc[row_indexer,col_indexer] = value instead\n",
            "\n",
            "See the caveats in the documentation: http://pandas.pydata.org/pandas-docs/stable/indexing.html#indexing-view-versus-copy\n",
            "  app.launch_new_instance()\n",
            "/usr/local/lib/python3.6/dist-packages/ipykernel_launcher.py:29: SettingWithCopyWarning: \n",
            "A value is trying to be set on a copy of a slice from a DataFrame.\n",
            "Try using .loc[row_indexer,col_indexer] = value instead\n",
            "\n",
            "See the caveats in the documentation: http://pandas.pydata.org/pandas-docs/stable/indexing.html#indexing-view-versus-copy\n",
            "/usr/local/lib/python3.6/dist-packages/pandas/core/frame.py:5516: SettingWithCopyWarning: \n",
            "A value is trying to be set on a copy of a slice from a DataFrame.\n",
            "Try using .loc[row_indexer,col_indexer] = value instead\n",
            "\n",
            "See the caveats in the documentation: http://pandas.pydata.org/pandas-docs/stable/indexing.html#indexing-view-versus-copy\n",
            "  self[col] = expressions.where(mask, this, that)\n"
          ],
          "name": "stderr"
        }
      ]
    },
    {
      "cell_type": "code",
      "metadata": {
        "colab_type": "code",
        "id": "-Ln3Q7trGg06",
        "colab": {}
      },
      "source": [
        "# Dataset in Task 2\n",
        "#   Users: Extract users who post at least 1\n",
        "#   Posts: Extract posts which create before T day from the account creation of the owner\n",
        "\n",
        "def getCreationDateOfOwner(users, posts):\n",
        "    posts['DataframeIndex'] = posts.index\n",
        "    posts['CreationDateOfOwner'] = posts.set_index('OwnerUserId')\\\n",
        "            .join(users, how='inner', rsuffix='OfOwner')\\\n",
        "            .set_index('DataframeIndex')['CreationDateOfOwner']\n",
        "    posts = posts.drop(['DataframeIndex'], axis=1)\n",
        "    return posts['CreationDateOfOwner']\n",
        "\n",
        "  \n",
        "def getTask2Posts(users, posts, T):\n",
        "    if 'CreationDateOfUser' not in posts.columns:\n",
        "        posts['CreationDateOfOwner'] = getCreationDateOfOwner(users, posts)\n",
        "    observation_deadline = posts['CreationDateOfOwner'] + pd.offsets.Day(T)\n",
        "    posts = posts[posts['CreationDate'] <= observation_deadline]\n",
        "    return posts\n",
        "  \n",
        "def getTask2Users(users, posts):\n",
        "    users['num_posts'] = posts.groupby('OwnerUserId')['OwnerUserId'].count()\n",
        "    users = users[users['num_posts'] >= 1]\n",
        "    return users\n",
        "  \n",
        "list_of_T = [7, 15, 30]\n",
        "users_of_task2 = {}\n",
        "posts_of_task2 = {}\n",
        "\n",
        "for T in list_of_T:\n",
        "    posts_of_task2[T] = getTask2Posts(users_df, posts_df, T)\n",
        "    users_of_task2[T] = getTask2Users(users_df, posts_df)"
      ],
      "execution_count": 0,
      "outputs": []
    },
    {
      "cell_type": "code",
      "metadata": {
        "id": "K4dyjxzXAqsi",
        "colab_type": "code",
        "colab": {}
      },
      "source": [
        ""
      ],
      "execution_count": 0,
      "outputs": []
    },
    {
      "cell_type": "markdown",
      "metadata": {
        "colab_type": "text",
        "id": "pYIvRp-nY8q-"
      },
      "source": [
        ""
      ]
    },
    {
      "cell_type": "code",
      "metadata": {
        "colab_type": "code",
        "id": "4KFrYJP0H8H8",
        "colab": {
          "base_uri": "https://localhost:8080/",
          "height": 139
        },
        "outputId": "6e7c5927-9031-4ffc-e650-90c72e5253f7"
      },
      "source": [
        "# Churn in Task2\n",
        "#   Churners: Users who did not post for at least 6 months from T days after account creation\n",
        "#   Stayers:  Users who created at least one post within the 6 months from T days after account creation\n",
        "\n",
        "def prepareFeaturesTask2(users, posts, T=30):\n",
        "    if 'CreationDateOfUser' not in posts.columns:\n",
        "        posts['CreationDateOfOwner'] = getCreationDateOfOwner(users, posts)\n",
        "    users = getTask1Users(users, posts, K=1)\n",
        "    observe_deadline = posts['CreationDateOfOwner'] + pd.offsets.Day(T)\n",
        "    churn_deadline = observe_deadline + pd.tseries.offsets.DateOffset(months=6)\n",
        "    posts_observed = posts[(posts['CreationDate'] <= observe_deadline) & (posts['CreationDate'] >= posts['CreationDateOfOwner'])]\n",
        "    posts_after_observe = posts[(posts['CreationDate'] <= churn_deadline) & (posts['CreationDate'] > observe_deadline)]\n",
        "    label_df = users.reindex((posts_observed.groupby('OwnerUserId')['OwnerUserId'].count() > 0).index)\n",
        "    stayers = (posts_after_observe.groupby('OwnerUserId')['OwnerUserId'].count() > 0).index\n",
        "    churners = list(set(label_df.index) - set(stayers))\n",
        "    label_df['is_churn'] = 0.\n",
        "    label_df.loc[churners, 'is_churn'] = 1.\n",
        "    return label_df\n",
        "\n",
        "features_of_task2 = {}\n",
        "for T in list_of_T:\n",
        "    features_of_task2[T] = prepareFeaturesTask2(users_of_task2[T], posts_df, T)\n"
      ],
      "execution_count": 16,
      "outputs": [
        {
          "output_type": "stream",
          "text": [
            "/usr/local/lib/python3.6/dist-packages/ipykernel_launcher.py:11: SettingWithCopyWarning: \n",
            "A value is trying to be set on a copy of a slice from a DataFrame.\n",
            "Try using .loc[row_indexer,col_indexer] = value instead\n",
            "\n",
            "See the caveats in the documentation: http://pandas.pydata.org/pandas-docs/stable/indexing.html#indexing-view-versus-copy\n",
            "  # This is added back by InteractiveShellApp.init_path()\n"
          ],
          "name": "stderr"
        }
      ]
    },
    {
      "cell_type": "markdown",
      "metadata": {
        "colab_type": "text",
        "id": "tTUabuRXIMeh"
      },
      "source": [
        "3. Extract features for each task"
      ]
    },
    {
      "cell_type": "markdown",
      "metadata": {
        "colab_type": "text",
        "id": "qeu0qyZjIVaW"
      },
      "source": [
        "3-1. Temporal features"
      ]
    },
    {
      "cell_type": "code",
      "metadata": {
        "colab_type": "code",
        "id": "1BwDqBD4H_my",
        "colab": {}
      },
      "source": [
        "# Temporal features 1: gap1\n",
        "def getTimeGap1OfUser(users, posts):\n",
        "    creation_date_user = users['CreationDate']\n",
        "    creation_date_first_post = posts.groupby('OwnerUserId')['CreationDate'].min()\n",
        "    return (creation_date_first_post - creation_date_user).dt.total_seconds()"
      ],
      "execution_count": 0,
      "outputs": []
    },
    {
      "cell_type": "code",
      "metadata": {
        "colab_type": "code",
        "id": "blqxv9rsIiFT",
        "colab": {}
      },
      "source": [
        "# Temporal features 2: gapK\n",
        "\n",
        "def getTimeGapkOfPosts(posts, k):\n",
        "    date_1 = posts[posts['ith'] == (k-1)].sort_values('OwnerUserId')\n",
        "    date_2 = posts[posts['ith'] == k].sort_values('OwnerUserId')\n",
        "    date_2 = date_2.set_index('OwnerUserId')\n",
        "    date_1 = date_1.set_index('OwnerUserId')\n",
        "    result = (date_2['CreationDate'] - date_1['CreationDate']).dt.total_seconds() / 60  \n",
        "    return result"
      ],
      "execution_count": 0,
      "outputs": []
    },
    {
      "cell_type": "code",
      "metadata": {
        "colab_type": "code",
        "id": "lpApw_8FMA8O",
        "colab": {}
      },
      "source": [
        "# Temporal features 3: last_gap\n",
        "def getTimeLastGapOfPosts(posts):\n",
        "    last_posts = posts.groupby('OwnerUserId')['CreationDate'].max().to_frame()\n",
        "    tmp = posts.join(last_posts, on='OwnerUserId', how='inner', lsuffix='F', rsuffix='P')\n",
        "    tmp = tmp[tmp['CreationDateF'] < tmp['CreationDateP']].groupby('OwnerUserId')['CreationDateF'].max().to_frame()\n",
        "    return (last_posts['CreationDate'] - tmp['CreationDateF']).dt.total_seconds() / 60"
      ],
      "execution_count": 0,
      "outputs": []
    },
    {
      "cell_type": "code",
      "metadata": {
        "colab_type": "code",
        "id": "RpmdwUxkMFdq",
        "colab": {}
      },
      "source": [
        "# Temporal features 4: time_since_last_post\n",
        "def getTimeSinceLastPost(users, posts, T):\n",
        "    last_post_date = posts.groupby('OwnerUserId')['CreationDate'].max()\n",
        "    creation_after_T_days_date = users['CreationDate'] + pd.offsets.Day(T)\n",
        "    return (creation_after_T_days_date - last_post_date).dt.total_seconds() / 60\n"
      ],
      "execution_count": 0,
      "outputs": []
    },
    {
      "cell_type": "code",
      "metadata": {
        "colab_type": "code",
        "id": "PhBuCzYXMQ4A",
        "colab": {}
      },
      "source": [
        "# Temporal features 5: mean_gap\n",
        "def getTimeMeanGap(posts):\n",
        "    last_post_date = posts.groupby('OwnerUserId')['CreationDate'].max()\n",
        "    first_post_date = posts.groupby('OwnerUserId')['CreationDate'].min()\n",
        "    num_posts = posts.groupby('OwnerUserId')['CreationDate'].count()\n",
        "    return (last_post_date - first_post_date).dt.total_seconds() / 60 / num_posts\n"
      ],
      "execution_count": 0,
      "outputs": []
    },
    {
      "cell_type": "code",
      "metadata": {
        "colab_type": "code",
        "id": "wUa-4pyI96fP",
        "colab": {
          "base_uri": "https://localhost:8080/",
          "height": 1000
        },
        "outputId": "e475d7f2-9056-48af-b7ba-256323403549"
      },
      "source": [
        "# Extract temporal features for task1\n",
        "for K in list_of_K:\n",
        "    features_of_task1[K]['gap1'] = getTimeGap1OfUser(users_of_task1[K], posts_of_task1[K])\n",
        "    for k in range(2, K+1):\n",
        "        features_of_task1[K]['gap{}'.format(k)] = getTimeGapkOfPosts(posts_of_task1[K], k)"
      ],
      "execution_count": 22,
      "outputs": [
        {
          "output_type": "stream",
          "text": [
            "/usr/local/lib/python3.6/dist-packages/ipykernel_launcher.py:4: SettingWithCopyWarning: \n",
            "A value is trying to be set on a copy of a slice from a DataFrame.\n",
            "Try using .loc[row_indexer,col_indexer] = value instead\n",
            "\n",
            "See the caveats in the documentation: http://pandas.pydata.org/pandas-docs/stable/indexing.html#indexing-view-versus-copy\n",
            "  after removing the cwd from sys.path.\n",
            "/usr/local/lib/python3.6/dist-packages/ipykernel_launcher.py:4: SettingWithCopyWarning: \n",
            "A value is trying to be set on a copy of a slice from a DataFrame.\n",
            "Try using .loc[row_indexer,col_indexer] = value instead\n",
            "\n",
            "See the caveats in the documentation: http://pandas.pydata.org/pandas-docs/stable/indexing.html#indexing-view-versus-copy\n",
            "  after removing the cwd from sys.path.\n",
            "/usr/local/lib/python3.6/dist-packages/ipykernel_launcher.py:4: SettingWithCopyWarning: \n",
            "A value is trying to be set on a copy of a slice from a DataFrame.\n",
            "Try using .loc[row_indexer,col_indexer] = value instead\n",
            "\n",
            "See the caveats in the documentation: http://pandas.pydata.org/pandas-docs/stable/indexing.html#indexing-view-versus-copy\n",
            "  after removing the cwd from sys.path.\n",
            "/usr/local/lib/python3.6/dist-packages/ipykernel_launcher.py:4: SettingWithCopyWarning: \n",
            "A value is trying to be set on a copy of a slice from a DataFrame.\n",
            "Try using .loc[row_indexer,col_indexer] = value instead\n",
            "\n",
            "See the caveats in the documentation: http://pandas.pydata.org/pandas-docs/stable/indexing.html#indexing-view-versus-copy\n",
            "  after removing the cwd from sys.path.\n",
            "/usr/local/lib/python3.6/dist-packages/ipykernel_launcher.py:4: SettingWithCopyWarning: \n",
            "A value is trying to be set on a copy of a slice from a DataFrame.\n",
            "Try using .loc[row_indexer,col_indexer] = value instead\n",
            "\n",
            "See the caveats in the documentation: http://pandas.pydata.org/pandas-docs/stable/indexing.html#indexing-view-versus-copy\n",
            "  after removing the cwd from sys.path.\n",
            "/usr/local/lib/python3.6/dist-packages/ipykernel_launcher.py:4: SettingWithCopyWarning: \n",
            "A value is trying to be set on a copy of a slice from a DataFrame.\n",
            "Try using .loc[row_indexer,col_indexer] = value instead\n",
            "\n",
            "See the caveats in the documentation: http://pandas.pydata.org/pandas-docs/stable/indexing.html#indexing-view-versus-copy\n",
            "  after removing the cwd from sys.path.\n",
            "/usr/local/lib/python3.6/dist-packages/ipykernel_launcher.py:4: SettingWithCopyWarning: \n",
            "A value is trying to be set on a copy of a slice from a DataFrame.\n",
            "Try using .loc[row_indexer,col_indexer] = value instead\n",
            "\n",
            "See the caveats in the documentation: http://pandas.pydata.org/pandas-docs/stable/indexing.html#indexing-view-versus-copy\n",
            "  after removing the cwd from sys.path.\n",
            "/usr/local/lib/python3.6/dist-packages/ipykernel_launcher.py:4: SettingWithCopyWarning: \n",
            "A value is trying to be set on a copy of a slice from a DataFrame.\n",
            "Try using .loc[row_indexer,col_indexer] = value instead\n",
            "\n",
            "See the caveats in the documentation: http://pandas.pydata.org/pandas-docs/stable/indexing.html#indexing-view-versus-copy\n",
            "  after removing the cwd from sys.path.\n",
            "/usr/local/lib/python3.6/dist-packages/ipykernel_launcher.py:4: SettingWithCopyWarning: \n",
            "A value is trying to be set on a copy of a slice from a DataFrame.\n",
            "Try using .loc[row_indexer,col_indexer] = value instead\n",
            "\n",
            "See the caveats in the documentation: http://pandas.pydata.org/pandas-docs/stable/indexing.html#indexing-view-versus-copy\n",
            "  after removing the cwd from sys.path.\n",
            "/usr/local/lib/python3.6/dist-packages/ipykernel_launcher.py:4: SettingWithCopyWarning: \n",
            "A value is trying to be set on a copy of a slice from a DataFrame.\n",
            "Try using .loc[row_indexer,col_indexer] = value instead\n",
            "\n",
            "See the caveats in the documentation: http://pandas.pydata.org/pandas-docs/stable/indexing.html#indexing-view-versus-copy\n",
            "  after removing the cwd from sys.path.\n",
            "/usr/local/lib/python3.6/dist-packages/ipykernel_launcher.py:2: SettingWithCopyWarning: \n",
            "A value is trying to be set on a copy of a slice from a DataFrame.\n",
            "Try using .loc[row_indexer,col_indexer] = value instead\n",
            "\n",
            "See the caveats in the documentation: http://pandas.pydata.org/pandas-docs/stable/indexing.html#indexing-view-versus-copy\n",
            "  \n",
            "/usr/local/lib/python3.6/dist-packages/ipykernel_launcher.py:4: SettingWithCopyWarning: \n",
            "A value is trying to be set on a copy of a slice from a DataFrame.\n",
            "Try using .loc[row_indexer,col_indexer] = value instead\n",
            "\n",
            "See the caveats in the documentation: http://pandas.pydata.org/pandas-docs/stable/indexing.html#indexing-view-versus-copy\n",
            "  after removing the cwd from sys.path.\n",
            "/usr/local/lib/python3.6/dist-packages/ipykernel_launcher.py:4: SettingWithCopyWarning: \n",
            "A value is trying to be set on a copy of a slice from a DataFrame.\n",
            "Try using .loc[row_indexer,col_indexer] = value instead\n",
            "\n",
            "See the caveats in the documentation: http://pandas.pydata.org/pandas-docs/stable/indexing.html#indexing-view-versus-copy\n",
            "  after removing the cwd from sys.path.\n",
            "/usr/local/lib/python3.6/dist-packages/ipykernel_launcher.py:4: SettingWithCopyWarning: \n",
            "A value is trying to be set on a copy of a slice from a DataFrame.\n",
            "Try using .loc[row_indexer,col_indexer] = value instead\n",
            "\n",
            "See the caveats in the documentation: http://pandas.pydata.org/pandas-docs/stable/indexing.html#indexing-view-versus-copy\n",
            "  after removing the cwd from sys.path.\n",
            "/usr/local/lib/python3.6/dist-packages/ipykernel_launcher.py:4: SettingWithCopyWarning: \n",
            "A value is trying to be set on a copy of a slice from a DataFrame.\n",
            "Try using .loc[row_indexer,col_indexer] = value instead\n",
            "\n",
            "See the caveats in the documentation: http://pandas.pydata.org/pandas-docs/stable/indexing.html#indexing-view-versus-copy\n",
            "  after removing the cwd from sys.path.\n",
            "/usr/local/lib/python3.6/dist-packages/ipykernel_launcher.py:4: SettingWithCopyWarning: \n",
            "A value is trying to be set on a copy of a slice from a DataFrame.\n",
            "Try using .loc[row_indexer,col_indexer] = value instead\n",
            "\n",
            "See the caveats in the documentation: http://pandas.pydata.org/pandas-docs/stable/indexing.html#indexing-view-versus-copy\n",
            "  after removing the cwd from sys.path.\n",
            "/usr/local/lib/python3.6/dist-packages/ipykernel_launcher.py:4: SettingWithCopyWarning: \n",
            "A value is trying to be set on a copy of a slice from a DataFrame.\n",
            "Try using .loc[row_indexer,col_indexer] = value instead\n",
            "\n",
            "See the caveats in the documentation: http://pandas.pydata.org/pandas-docs/stable/indexing.html#indexing-view-versus-copy\n",
            "  after removing the cwd from sys.path.\n",
            "/usr/local/lib/python3.6/dist-packages/ipykernel_launcher.py:4: SettingWithCopyWarning: \n",
            "A value is trying to be set on a copy of a slice from a DataFrame.\n",
            "Try using .loc[row_indexer,col_indexer] = value instead\n",
            "\n",
            "See the caveats in the documentation: http://pandas.pydata.org/pandas-docs/stable/indexing.html#indexing-view-versus-copy\n",
            "  after removing the cwd from sys.path.\n",
            "/usr/local/lib/python3.6/dist-packages/ipykernel_launcher.py:4: SettingWithCopyWarning: \n",
            "A value is trying to be set on a copy of a slice from a DataFrame.\n",
            "Try using .loc[row_indexer,col_indexer] = value instead\n",
            "\n",
            "See the caveats in the documentation: http://pandas.pydata.org/pandas-docs/stable/indexing.html#indexing-view-versus-copy\n",
            "  after removing the cwd from sys.path.\n",
            "/usr/local/lib/python3.6/dist-packages/ipykernel_launcher.py:4: SettingWithCopyWarning: \n",
            "A value is trying to be set on a copy of a slice from a DataFrame.\n",
            "Try using .loc[row_indexer,col_indexer] = value instead\n",
            "\n",
            "See the caveats in the documentation: http://pandas.pydata.org/pandas-docs/stable/indexing.html#indexing-view-versus-copy\n",
            "  after removing the cwd from sys.path.\n",
            "/usr/local/lib/python3.6/dist-packages/ipykernel_launcher.py:4: SettingWithCopyWarning: \n",
            "A value is trying to be set on a copy of a slice from a DataFrame.\n",
            "Try using .loc[row_indexer,col_indexer] = value instead\n",
            "\n",
            "See the caveats in the documentation: http://pandas.pydata.org/pandas-docs/stable/indexing.html#indexing-view-versus-copy\n",
            "  after removing the cwd from sys.path.\n",
            "/usr/local/lib/python3.6/dist-packages/ipykernel_launcher.py:4: SettingWithCopyWarning: \n",
            "A value is trying to be set on a copy of a slice from a DataFrame.\n",
            "Try using .loc[row_indexer,col_indexer] = value instead\n",
            "\n",
            "See the caveats in the documentation: http://pandas.pydata.org/pandas-docs/stable/indexing.html#indexing-view-versus-copy\n",
            "  after removing the cwd from sys.path.\n",
            "/usr/local/lib/python3.6/dist-packages/ipykernel_launcher.py:4: SettingWithCopyWarning: \n",
            "A value is trying to be set on a copy of a slice from a DataFrame.\n",
            "Try using .loc[row_indexer,col_indexer] = value instead\n",
            "\n",
            "See the caveats in the documentation: http://pandas.pydata.org/pandas-docs/stable/indexing.html#indexing-view-versus-copy\n",
            "  after removing the cwd from sys.path.\n",
            "/usr/local/lib/python3.6/dist-packages/ipykernel_launcher.py:2: SettingWithCopyWarning: \n",
            "A value is trying to be set on a copy of a slice from a DataFrame.\n",
            "Try using .loc[row_indexer,col_indexer] = value instead\n",
            "\n",
            "See the caveats in the documentation: http://pandas.pydata.org/pandas-docs/stable/indexing.html#indexing-view-versus-copy\n",
            "  \n",
            "/usr/local/lib/python3.6/dist-packages/ipykernel_launcher.py:4: SettingWithCopyWarning: \n",
            "A value is trying to be set on a copy of a slice from a DataFrame.\n",
            "Try using .loc[row_indexer,col_indexer] = value instead\n",
            "\n",
            "See the caveats in the documentation: http://pandas.pydata.org/pandas-docs/stable/indexing.html#indexing-view-versus-copy\n",
            "  after removing the cwd from sys.path.\n",
            "/usr/local/lib/python3.6/dist-packages/ipykernel_launcher.py:4: SettingWithCopyWarning: \n",
            "A value is trying to be set on a copy of a slice from a DataFrame.\n",
            "Try using .loc[row_indexer,col_indexer] = value instead\n",
            "\n",
            "See the caveats in the documentation: http://pandas.pydata.org/pandas-docs/stable/indexing.html#indexing-view-versus-copy\n",
            "  after removing the cwd from sys.path.\n",
            "/usr/local/lib/python3.6/dist-packages/ipykernel_launcher.py:4: SettingWithCopyWarning: \n",
            "A value is trying to be set on a copy of a slice from a DataFrame.\n",
            "Try using .loc[row_indexer,col_indexer] = value instead\n",
            "\n",
            "See the caveats in the documentation: http://pandas.pydata.org/pandas-docs/stable/indexing.html#indexing-view-versus-copy\n",
            "  after removing the cwd from sys.path.\n",
            "/usr/local/lib/python3.6/dist-packages/ipykernel_launcher.py:4: SettingWithCopyWarning: \n",
            "A value is trying to be set on a copy of a slice from a DataFrame.\n",
            "Try using .loc[row_indexer,col_indexer] = value instead\n",
            "\n",
            "See the caveats in the documentation: http://pandas.pydata.org/pandas-docs/stable/indexing.html#indexing-view-versus-copy\n",
            "  after removing the cwd from sys.path.\n",
            "/usr/local/lib/python3.6/dist-packages/ipykernel_launcher.py:4: SettingWithCopyWarning: \n",
            "A value is trying to be set on a copy of a slice from a DataFrame.\n",
            "Try using .loc[row_indexer,col_indexer] = value instead\n",
            "\n",
            "See the caveats in the documentation: http://pandas.pydata.org/pandas-docs/stable/indexing.html#indexing-view-versus-copy\n",
            "  after removing the cwd from sys.path.\n",
            "/usr/local/lib/python3.6/dist-packages/ipykernel_launcher.py:4: SettingWithCopyWarning: \n",
            "A value is trying to be set on a copy of a slice from a DataFrame.\n",
            "Try using .loc[row_indexer,col_indexer] = value instead\n",
            "\n",
            "See the caveats in the documentation: http://pandas.pydata.org/pandas-docs/stable/indexing.html#indexing-view-versus-copy\n",
            "  after removing the cwd from sys.path.\n",
            "/usr/local/lib/python3.6/dist-packages/ipykernel_launcher.py:4: SettingWithCopyWarning: \n",
            "A value is trying to be set on a copy of a slice from a DataFrame.\n",
            "Try using .loc[row_indexer,col_indexer] = value instead\n",
            "\n",
            "See the caveats in the documentation: http://pandas.pydata.org/pandas-docs/stable/indexing.html#indexing-view-versus-copy\n",
            "  after removing the cwd from sys.path.\n",
            "/usr/local/lib/python3.6/dist-packages/ipykernel_launcher.py:4: SettingWithCopyWarning: \n",
            "A value is trying to be set on a copy of a slice from a DataFrame.\n",
            "Try using .loc[row_indexer,col_indexer] = value instead\n",
            "\n",
            "See the caveats in the documentation: http://pandas.pydata.org/pandas-docs/stable/indexing.html#indexing-view-versus-copy\n",
            "  after removing the cwd from sys.path.\n",
            "/usr/local/lib/python3.6/dist-packages/ipykernel_launcher.py:4: SettingWithCopyWarning: \n",
            "A value is trying to be set on a copy of a slice from a DataFrame.\n",
            "Try using .loc[row_indexer,col_indexer] = value instead\n",
            "\n",
            "See the caveats in the documentation: http://pandas.pydata.org/pandas-docs/stable/indexing.html#indexing-view-versus-copy\n",
            "  after removing the cwd from sys.path.\n",
            "/usr/local/lib/python3.6/dist-packages/ipykernel_launcher.py:4: SettingWithCopyWarning: \n",
            "A value is trying to be set on a copy of a slice from a DataFrame.\n",
            "Try using .loc[row_indexer,col_indexer] = value instead\n",
            "\n",
            "See the caveats in the documentation: http://pandas.pydata.org/pandas-docs/stable/indexing.html#indexing-view-versus-copy\n",
            "  after removing the cwd from sys.path.\n",
            "/usr/local/lib/python3.6/dist-packages/ipykernel_launcher.py:4: SettingWithCopyWarning: \n",
            "A value is trying to be set on a copy of a slice from a DataFrame.\n",
            "Try using .loc[row_indexer,col_indexer] = value instead\n",
            "\n",
            "See the caveats in the documentation: http://pandas.pydata.org/pandas-docs/stable/indexing.html#indexing-view-versus-copy\n",
            "  after removing the cwd from sys.path.\n",
            "/usr/local/lib/python3.6/dist-packages/ipykernel_launcher.py:4: SettingWithCopyWarning: \n",
            "A value is trying to be set on a copy of a slice from a DataFrame.\n",
            "Try using .loc[row_indexer,col_indexer] = value instead\n",
            "\n",
            "See the caveats in the documentation: http://pandas.pydata.org/pandas-docs/stable/indexing.html#indexing-view-versus-copy\n",
            "  after removing the cwd from sys.path.\n",
            "/usr/local/lib/python3.6/dist-packages/ipykernel_launcher.py:4: SettingWithCopyWarning: \n",
            "A value is trying to be set on a copy of a slice from a DataFrame.\n",
            "Try using .loc[row_indexer,col_indexer] = value instead\n",
            "\n",
            "See the caveats in the documentation: http://pandas.pydata.org/pandas-docs/stable/indexing.html#indexing-view-versus-copy\n",
            "  after removing the cwd from sys.path.\n",
            "/usr/local/lib/python3.6/dist-packages/ipykernel_launcher.py:2: SettingWithCopyWarning: \n",
            "A value is trying to be set on a copy of a slice from a DataFrame.\n",
            "Try using .loc[row_indexer,col_indexer] = value instead\n",
            "\n",
            "See the caveats in the documentation: http://pandas.pydata.org/pandas-docs/stable/indexing.html#indexing-view-versus-copy\n",
            "  \n",
            "/usr/local/lib/python3.6/dist-packages/ipykernel_launcher.py:4: SettingWithCopyWarning: \n",
            "A value is trying to be set on a copy of a slice from a DataFrame.\n",
            "Try using .loc[row_indexer,col_indexer] = value instead\n",
            "\n",
            "See the caveats in the documentation: http://pandas.pydata.org/pandas-docs/stable/indexing.html#indexing-view-versus-copy\n",
            "  after removing the cwd from sys.path.\n",
            "/usr/local/lib/python3.6/dist-packages/ipykernel_launcher.py:4: SettingWithCopyWarning: \n",
            "A value is trying to be set on a copy of a slice from a DataFrame.\n",
            "Try using .loc[row_indexer,col_indexer] = value instead\n",
            "\n",
            "See the caveats in the documentation: http://pandas.pydata.org/pandas-docs/stable/indexing.html#indexing-view-versus-copy\n",
            "  after removing the cwd from sys.path.\n",
            "/usr/local/lib/python3.6/dist-packages/ipykernel_launcher.py:4: SettingWithCopyWarning: \n",
            "A value is trying to be set on a copy of a slice from a DataFrame.\n",
            "Try using .loc[row_indexer,col_indexer] = value instead\n",
            "\n",
            "See the caveats in the documentation: http://pandas.pydata.org/pandas-docs/stable/indexing.html#indexing-view-versus-copy\n",
            "  after removing the cwd from sys.path.\n",
            "/usr/local/lib/python3.6/dist-packages/ipykernel_launcher.py:4: SettingWithCopyWarning: \n",
            "A value is trying to be set on a copy of a slice from a DataFrame.\n",
            "Try using .loc[row_indexer,col_indexer] = value instead\n",
            "\n",
            "See the caveats in the documentation: http://pandas.pydata.org/pandas-docs/stable/indexing.html#indexing-view-versus-copy\n",
            "  after removing the cwd from sys.path.\n",
            "/usr/local/lib/python3.6/dist-packages/ipykernel_launcher.py:4: SettingWithCopyWarning: \n",
            "A value is trying to be set on a copy of a slice from a DataFrame.\n",
            "Try using .loc[row_indexer,col_indexer] = value instead\n",
            "\n",
            "See the caveats in the documentation: http://pandas.pydata.org/pandas-docs/stable/indexing.html#indexing-view-versus-copy\n",
            "  after removing the cwd from sys.path.\n",
            "/usr/local/lib/python3.6/dist-packages/ipykernel_launcher.py:4: SettingWithCopyWarning: \n",
            "A value is trying to be set on a copy of a slice from a DataFrame.\n",
            "Try using .loc[row_indexer,col_indexer] = value instead\n",
            "\n",
            "See the caveats in the documentation: http://pandas.pydata.org/pandas-docs/stable/indexing.html#indexing-view-versus-copy\n",
            "  after removing the cwd from sys.path.\n",
            "/usr/local/lib/python3.6/dist-packages/ipykernel_launcher.py:4: SettingWithCopyWarning: \n",
            "A value is trying to be set on a copy of a slice from a DataFrame.\n",
            "Try using .loc[row_indexer,col_indexer] = value instead\n",
            "\n",
            "See the caveats in the documentation: http://pandas.pydata.org/pandas-docs/stable/indexing.html#indexing-view-versus-copy\n",
            "  after removing the cwd from sys.path.\n",
            "/usr/local/lib/python3.6/dist-packages/ipykernel_launcher.py:4: SettingWithCopyWarning: \n",
            "A value is trying to be set on a copy of a slice from a DataFrame.\n",
            "Try using .loc[row_indexer,col_indexer] = value instead\n",
            "\n",
            "See the caveats in the documentation: http://pandas.pydata.org/pandas-docs/stable/indexing.html#indexing-view-versus-copy\n",
            "  after removing the cwd from sys.path.\n",
            "/usr/local/lib/python3.6/dist-packages/ipykernel_launcher.py:4: SettingWithCopyWarning: \n",
            "A value is trying to be set on a copy of a slice from a DataFrame.\n",
            "Try using .loc[row_indexer,col_indexer] = value instead\n",
            "\n",
            "See the caveats in the documentation: http://pandas.pydata.org/pandas-docs/stable/indexing.html#indexing-view-versus-copy\n",
            "  after removing the cwd from sys.path.\n",
            "/usr/local/lib/python3.6/dist-packages/ipykernel_launcher.py:4: SettingWithCopyWarning: \n",
            "A value is trying to be set on a copy of a slice from a DataFrame.\n",
            "Try using .loc[row_indexer,col_indexer] = value instead\n",
            "\n",
            "See the caveats in the documentation: http://pandas.pydata.org/pandas-docs/stable/indexing.html#indexing-view-versus-copy\n",
            "  after removing the cwd from sys.path.\n",
            "/usr/local/lib/python3.6/dist-packages/ipykernel_launcher.py:4: SettingWithCopyWarning: \n",
            "A value is trying to be set on a copy of a slice from a DataFrame.\n",
            "Try using .loc[row_indexer,col_indexer] = value instead\n",
            "\n",
            "See the caveats in the documentation: http://pandas.pydata.org/pandas-docs/stable/indexing.html#indexing-view-versus-copy\n",
            "  after removing the cwd from sys.path.\n",
            "/usr/local/lib/python3.6/dist-packages/ipykernel_launcher.py:4: SettingWithCopyWarning: \n",
            "A value is trying to be set on a copy of a slice from a DataFrame.\n",
            "Try using .loc[row_indexer,col_indexer] = value instead\n",
            "\n",
            "See the caveats in the documentation: http://pandas.pydata.org/pandas-docs/stable/indexing.html#indexing-view-versus-copy\n",
            "  after removing the cwd from sys.path.\n",
            "/usr/local/lib/python3.6/dist-packages/ipykernel_launcher.py:4: SettingWithCopyWarning: \n",
            "A value is trying to be set on a copy of a slice from a DataFrame.\n",
            "Try using .loc[row_indexer,col_indexer] = value instead\n",
            "\n",
            "See the caveats in the documentation: http://pandas.pydata.org/pandas-docs/stable/indexing.html#indexing-view-versus-copy\n",
            "  after removing the cwd from sys.path.\n",
            "/usr/local/lib/python3.6/dist-packages/ipykernel_launcher.py:4: SettingWithCopyWarning: \n",
            "A value is trying to be set on a copy of a slice from a DataFrame.\n",
            "Try using .loc[row_indexer,col_indexer] = value instead\n",
            "\n",
            "See the caveats in the documentation: http://pandas.pydata.org/pandas-docs/stable/indexing.html#indexing-view-versus-copy\n",
            "  after removing the cwd from sys.path.\n",
            "/usr/local/lib/python3.6/dist-packages/ipykernel_launcher.py:2: SettingWithCopyWarning: \n",
            "A value is trying to be set on a copy of a slice from a DataFrame.\n",
            "Try using .loc[row_indexer,col_indexer] = value instead\n",
            "\n",
            "See the caveats in the documentation: http://pandas.pydata.org/pandas-docs/stable/indexing.html#indexing-view-versus-copy\n",
            "  \n",
            "/usr/local/lib/python3.6/dist-packages/ipykernel_launcher.py:4: SettingWithCopyWarning: \n",
            "A value is trying to be set on a copy of a slice from a DataFrame.\n",
            "Try using .loc[row_indexer,col_indexer] = value instead\n",
            "\n",
            "See the caveats in the documentation: http://pandas.pydata.org/pandas-docs/stable/indexing.html#indexing-view-versus-copy\n",
            "  after removing the cwd from sys.path.\n",
            "/usr/local/lib/python3.6/dist-packages/ipykernel_launcher.py:4: SettingWithCopyWarning: \n",
            "A value is trying to be set on a copy of a slice from a DataFrame.\n",
            "Try using .loc[row_indexer,col_indexer] = value instead\n",
            "\n",
            "See the caveats in the documentation: http://pandas.pydata.org/pandas-docs/stable/indexing.html#indexing-view-versus-copy\n",
            "  after removing the cwd from sys.path.\n",
            "/usr/local/lib/python3.6/dist-packages/ipykernel_launcher.py:4: SettingWithCopyWarning: \n",
            "A value is trying to be set on a copy of a slice from a DataFrame.\n",
            "Try using .loc[row_indexer,col_indexer] = value instead\n",
            "\n",
            "See the caveats in the documentation: http://pandas.pydata.org/pandas-docs/stable/indexing.html#indexing-view-versus-copy\n",
            "  after removing the cwd from sys.path.\n",
            "/usr/local/lib/python3.6/dist-packages/ipykernel_launcher.py:4: SettingWithCopyWarning: \n",
            "A value is trying to be set on a copy of a slice from a DataFrame.\n",
            "Try using .loc[row_indexer,col_indexer] = value instead\n",
            "\n",
            "See the caveats in the documentation: http://pandas.pydata.org/pandas-docs/stable/indexing.html#indexing-view-versus-copy\n",
            "  after removing the cwd from sys.path.\n",
            "/usr/local/lib/python3.6/dist-packages/ipykernel_launcher.py:4: SettingWithCopyWarning: \n",
            "A value is trying to be set on a copy of a slice from a DataFrame.\n",
            "Try using .loc[row_indexer,col_indexer] = value instead\n",
            "\n",
            "See the caveats in the documentation: http://pandas.pydata.org/pandas-docs/stable/indexing.html#indexing-view-versus-copy\n",
            "  after removing the cwd from sys.path.\n",
            "/usr/local/lib/python3.6/dist-packages/ipykernel_launcher.py:4: SettingWithCopyWarning: \n",
            "A value is trying to be set on a copy of a slice from a DataFrame.\n",
            "Try using .loc[row_indexer,col_indexer] = value instead\n",
            "\n",
            "See the caveats in the documentation: http://pandas.pydata.org/pandas-docs/stable/indexing.html#indexing-view-versus-copy\n",
            "  after removing the cwd from sys.path.\n",
            "/usr/local/lib/python3.6/dist-packages/ipykernel_launcher.py:4: SettingWithCopyWarning: \n",
            "A value is trying to be set on a copy of a slice from a DataFrame.\n",
            "Try using .loc[row_indexer,col_indexer] = value instead\n",
            "\n",
            "See the caveats in the documentation: http://pandas.pydata.org/pandas-docs/stable/indexing.html#indexing-view-versus-copy\n",
            "  after removing the cwd from sys.path.\n",
            "/usr/local/lib/python3.6/dist-packages/ipykernel_launcher.py:4: SettingWithCopyWarning: \n",
            "A value is trying to be set on a copy of a slice from a DataFrame.\n",
            "Try using .loc[row_indexer,col_indexer] = value instead\n",
            "\n",
            "See the caveats in the documentation: http://pandas.pydata.org/pandas-docs/stable/indexing.html#indexing-view-versus-copy\n",
            "  after removing the cwd from sys.path.\n",
            "/usr/local/lib/python3.6/dist-packages/ipykernel_launcher.py:4: SettingWithCopyWarning: \n",
            "A value is trying to be set on a copy of a slice from a DataFrame.\n",
            "Try using .loc[row_indexer,col_indexer] = value instead\n",
            "\n",
            "See the caveats in the documentation: http://pandas.pydata.org/pandas-docs/stable/indexing.html#indexing-view-versus-copy\n",
            "  after removing the cwd from sys.path.\n",
            "/usr/local/lib/python3.6/dist-packages/ipykernel_launcher.py:4: SettingWithCopyWarning: \n",
            "A value is trying to be set on a copy of a slice from a DataFrame.\n",
            "Try using .loc[row_indexer,col_indexer] = value instead\n",
            "\n",
            "See the caveats in the documentation: http://pandas.pydata.org/pandas-docs/stable/indexing.html#indexing-view-versus-copy\n",
            "  after removing the cwd from sys.path.\n",
            "/usr/local/lib/python3.6/dist-packages/ipykernel_launcher.py:4: SettingWithCopyWarning: \n",
            "A value is trying to be set on a copy of a slice from a DataFrame.\n",
            "Try using .loc[row_indexer,col_indexer] = value instead\n",
            "\n",
            "See the caveats in the documentation: http://pandas.pydata.org/pandas-docs/stable/indexing.html#indexing-view-versus-copy\n",
            "  after removing the cwd from sys.path.\n",
            "/usr/local/lib/python3.6/dist-packages/ipykernel_launcher.py:4: SettingWithCopyWarning: \n",
            "A value is trying to be set on a copy of a slice from a DataFrame.\n",
            "Try using .loc[row_indexer,col_indexer] = value instead\n",
            "\n",
            "See the caveats in the documentation: http://pandas.pydata.org/pandas-docs/stable/indexing.html#indexing-view-versus-copy\n",
            "  after removing the cwd from sys.path.\n",
            "/usr/local/lib/python3.6/dist-packages/ipykernel_launcher.py:4: SettingWithCopyWarning: \n",
            "A value is trying to be set on a copy of a slice from a DataFrame.\n",
            "Try using .loc[row_indexer,col_indexer] = value instead\n",
            "\n",
            "See the caveats in the documentation: http://pandas.pydata.org/pandas-docs/stable/indexing.html#indexing-view-versus-copy\n",
            "  after removing the cwd from sys.path.\n",
            "/usr/local/lib/python3.6/dist-packages/ipykernel_launcher.py:4: SettingWithCopyWarning: \n",
            "A value is trying to be set on a copy of a slice from a DataFrame.\n",
            "Try using .loc[row_indexer,col_indexer] = value instead\n",
            "\n",
            "See the caveats in the documentation: http://pandas.pydata.org/pandas-docs/stable/indexing.html#indexing-view-versus-copy\n",
            "  after removing the cwd from sys.path.\n",
            "/usr/local/lib/python3.6/dist-packages/ipykernel_launcher.py:4: SettingWithCopyWarning: \n",
            "A value is trying to be set on a copy of a slice from a DataFrame.\n",
            "Try using .loc[row_indexer,col_indexer] = value instead\n",
            "\n",
            "See the caveats in the documentation: http://pandas.pydata.org/pandas-docs/stable/indexing.html#indexing-view-versus-copy\n",
            "  after removing the cwd from sys.path.\n",
            "/usr/local/lib/python3.6/dist-packages/ipykernel_launcher.py:2: SettingWithCopyWarning: \n",
            "A value is trying to be set on a copy of a slice from a DataFrame.\n",
            "Try using .loc[row_indexer,col_indexer] = value instead\n",
            "\n",
            "See the caveats in the documentation: http://pandas.pydata.org/pandas-docs/stable/indexing.html#indexing-view-versus-copy\n",
            "  \n",
            "/usr/local/lib/python3.6/dist-packages/ipykernel_launcher.py:4: SettingWithCopyWarning: \n",
            "A value is trying to be set on a copy of a slice from a DataFrame.\n",
            "Try using .loc[row_indexer,col_indexer] = value instead\n",
            "\n",
            "See the caveats in the documentation: http://pandas.pydata.org/pandas-docs/stable/indexing.html#indexing-view-versus-copy\n",
            "  after removing the cwd from sys.path.\n",
            "/usr/local/lib/python3.6/dist-packages/ipykernel_launcher.py:4: SettingWithCopyWarning: \n",
            "A value is trying to be set on a copy of a slice from a DataFrame.\n",
            "Try using .loc[row_indexer,col_indexer] = value instead\n",
            "\n",
            "See the caveats in the documentation: http://pandas.pydata.org/pandas-docs/stable/indexing.html#indexing-view-versus-copy\n",
            "  after removing the cwd from sys.path.\n",
            "/usr/local/lib/python3.6/dist-packages/ipykernel_launcher.py:4: SettingWithCopyWarning: \n",
            "A value is trying to be set on a copy of a slice from a DataFrame.\n",
            "Try using .loc[row_indexer,col_indexer] = value instead\n",
            "\n",
            "See the caveats in the documentation: http://pandas.pydata.org/pandas-docs/stable/indexing.html#indexing-view-versus-copy\n",
            "  after removing the cwd from sys.path.\n",
            "/usr/local/lib/python3.6/dist-packages/ipykernel_launcher.py:4: SettingWithCopyWarning: \n",
            "A value is trying to be set on a copy of a slice from a DataFrame.\n",
            "Try using .loc[row_indexer,col_indexer] = value instead\n",
            "\n",
            "See the caveats in the documentation: http://pandas.pydata.org/pandas-docs/stable/indexing.html#indexing-view-versus-copy\n",
            "  after removing the cwd from sys.path.\n",
            "/usr/local/lib/python3.6/dist-packages/ipykernel_launcher.py:4: SettingWithCopyWarning: \n",
            "A value is trying to be set on a copy of a slice from a DataFrame.\n",
            "Try using .loc[row_indexer,col_indexer] = value instead\n",
            "\n",
            "See the caveats in the documentation: http://pandas.pydata.org/pandas-docs/stable/indexing.html#indexing-view-versus-copy\n",
            "  after removing the cwd from sys.path.\n",
            "/usr/local/lib/python3.6/dist-packages/ipykernel_launcher.py:4: SettingWithCopyWarning: \n",
            "A value is trying to be set on a copy of a slice from a DataFrame.\n",
            "Try using .loc[row_indexer,col_indexer] = value instead\n",
            "\n",
            "See the caveats in the documentation: http://pandas.pydata.org/pandas-docs/stable/indexing.html#indexing-view-versus-copy\n",
            "  after removing the cwd from sys.path.\n",
            "/usr/local/lib/python3.6/dist-packages/ipykernel_launcher.py:4: SettingWithCopyWarning: \n",
            "A value is trying to be set on a copy of a slice from a DataFrame.\n",
            "Try using .loc[row_indexer,col_indexer] = value instead\n",
            "\n",
            "See the caveats in the documentation: http://pandas.pydata.org/pandas-docs/stable/indexing.html#indexing-view-versus-copy\n",
            "  after removing the cwd from sys.path.\n",
            "/usr/local/lib/python3.6/dist-packages/ipykernel_launcher.py:4: SettingWithCopyWarning: \n",
            "A value is trying to be set on a copy of a slice from a DataFrame.\n",
            "Try using .loc[row_indexer,col_indexer] = value instead\n",
            "\n",
            "See the caveats in the documentation: http://pandas.pydata.org/pandas-docs/stable/indexing.html#indexing-view-versus-copy\n",
            "  after removing the cwd from sys.path.\n",
            "/usr/local/lib/python3.6/dist-packages/ipykernel_launcher.py:4: SettingWithCopyWarning: \n",
            "A value is trying to be set on a copy of a slice from a DataFrame.\n",
            "Try using .loc[row_indexer,col_indexer] = value instead\n",
            "\n",
            "See the caveats in the documentation: http://pandas.pydata.org/pandas-docs/stable/indexing.html#indexing-view-versus-copy\n",
            "  after removing the cwd from sys.path.\n",
            "/usr/local/lib/python3.6/dist-packages/ipykernel_launcher.py:4: SettingWithCopyWarning: \n",
            "A value is trying to be set on a copy of a slice from a DataFrame.\n",
            "Try using .loc[row_indexer,col_indexer] = value instead\n",
            "\n",
            "See the caveats in the documentation: http://pandas.pydata.org/pandas-docs/stable/indexing.html#indexing-view-versus-copy\n",
            "  after removing the cwd from sys.path.\n",
            "/usr/local/lib/python3.6/dist-packages/ipykernel_launcher.py:4: SettingWithCopyWarning: \n",
            "A value is trying to be set on a copy of a slice from a DataFrame.\n",
            "Try using .loc[row_indexer,col_indexer] = value instead\n",
            "\n",
            "See the caveats in the documentation: http://pandas.pydata.org/pandas-docs/stable/indexing.html#indexing-view-versus-copy\n",
            "  after removing the cwd from sys.path.\n",
            "/usr/local/lib/python3.6/dist-packages/ipykernel_launcher.py:4: SettingWithCopyWarning: \n",
            "A value is trying to be set on a copy of a slice from a DataFrame.\n",
            "Try using .loc[row_indexer,col_indexer] = value instead\n",
            "\n",
            "See the caveats in the documentation: http://pandas.pydata.org/pandas-docs/stable/indexing.html#indexing-view-versus-copy\n",
            "  after removing the cwd from sys.path.\n",
            "/usr/local/lib/python3.6/dist-packages/ipykernel_launcher.py:4: SettingWithCopyWarning: \n",
            "A value is trying to be set on a copy of a slice from a DataFrame.\n",
            "Try using .loc[row_indexer,col_indexer] = value instead\n",
            "\n",
            "See the caveats in the documentation: http://pandas.pydata.org/pandas-docs/stable/indexing.html#indexing-view-versus-copy\n",
            "  after removing the cwd from sys.path.\n",
            "/usr/local/lib/python3.6/dist-packages/ipykernel_launcher.py:4: SettingWithCopyWarning: \n",
            "A value is trying to be set on a copy of a slice from a DataFrame.\n",
            "Try using .loc[row_indexer,col_indexer] = value instead\n",
            "\n",
            "See the caveats in the documentation: http://pandas.pydata.org/pandas-docs/stable/indexing.html#indexing-view-versus-copy\n",
            "  after removing the cwd from sys.path.\n",
            "/usr/local/lib/python3.6/dist-packages/ipykernel_launcher.py:4: SettingWithCopyWarning: \n",
            "A value is trying to be set on a copy of a slice from a DataFrame.\n",
            "Try using .loc[row_indexer,col_indexer] = value instead\n",
            "\n",
            "See the caveats in the documentation: http://pandas.pydata.org/pandas-docs/stable/indexing.html#indexing-view-versus-copy\n",
            "  after removing the cwd from sys.path.\n",
            "/usr/local/lib/python3.6/dist-packages/ipykernel_launcher.py:4: SettingWithCopyWarning: \n",
            "A value is trying to be set on a copy of a slice from a DataFrame.\n",
            "Try using .loc[row_indexer,col_indexer] = value instead\n",
            "\n",
            "See the caveats in the documentation: http://pandas.pydata.org/pandas-docs/stable/indexing.html#indexing-view-versus-copy\n",
            "  after removing the cwd from sys.path.\n",
            "/usr/local/lib/python3.6/dist-packages/ipykernel_launcher.py:2: SettingWithCopyWarning: \n",
            "A value is trying to be set on a copy of a slice from a DataFrame.\n",
            "Try using .loc[row_indexer,col_indexer] = value instead\n",
            "\n",
            "See the caveats in the documentation: http://pandas.pydata.org/pandas-docs/stable/indexing.html#indexing-view-versus-copy\n",
            "  \n",
            "/usr/local/lib/python3.6/dist-packages/ipykernel_launcher.py:4: SettingWithCopyWarning: \n",
            "A value is trying to be set on a copy of a slice from a DataFrame.\n",
            "Try using .loc[row_indexer,col_indexer] = value instead\n",
            "\n",
            "See the caveats in the documentation: http://pandas.pydata.org/pandas-docs/stable/indexing.html#indexing-view-versus-copy\n",
            "  after removing the cwd from sys.path.\n",
            "/usr/local/lib/python3.6/dist-packages/ipykernel_launcher.py:4: SettingWithCopyWarning: \n",
            "A value is trying to be set on a copy of a slice from a DataFrame.\n",
            "Try using .loc[row_indexer,col_indexer] = value instead\n",
            "\n",
            "See the caveats in the documentation: http://pandas.pydata.org/pandas-docs/stable/indexing.html#indexing-view-versus-copy\n",
            "  after removing the cwd from sys.path.\n",
            "/usr/local/lib/python3.6/dist-packages/ipykernel_launcher.py:4: SettingWithCopyWarning: \n",
            "A value is trying to be set on a copy of a slice from a DataFrame.\n",
            "Try using .loc[row_indexer,col_indexer] = value instead\n",
            "\n",
            "See the caveats in the documentation: http://pandas.pydata.org/pandas-docs/stable/indexing.html#indexing-view-versus-copy\n",
            "  after removing the cwd from sys.path.\n",
            "/usr/local/lib/python3.6/dist-packages/ipykernel_launcher.py:4: SettingWithCopyWarning: \n",
            "A value is trying to be set on a copy of a slice from a DataFrame.\n",
            "Try using .loc[row_indexer,col_indexer] = value instead\n",
            "\n",
            "See the caveats in the documentation: http://pandas.pydata.org/pandas-docs/stable/indexing.html#indexing-view-versus-copy\n",
            "  after removing the cwd from sys.path.\n",
            "/usr/local/lib/python3.6/dist-packages/ipykernel_launcher.py:4: SettingWithCopyWarning: \n",
            "A value is trying to be set on a copy of a slice from a DataFrame.\n",
            "Try using .loc[row_indexer,col_indexer] = value instead\n",
            "\n",
            "See the caveats in the documentation: http://pandas.pydata.org/pandas-docs/stable/indexing.html#indexing-view-versus-copy\n",
            "  after removing the cwd from sys.path.\n",
            "/usr/local/lib/python3.6/dist-packages/ipykernel_launcher.py:4: SettingWithCopyWarning: \n",
            "A value is trying to be set on a copy of a slice from a DataFrame.\n",
            "Try using .loc[row_indexer,col_indexer] = value instead\n",
            "\n",
            "See the caveats in the documentation: http://pandas.pydata.org/pandas-docs/stable/indexing.html#indexing-view-versus-copy\n",
            "  after removing the cwd from sys.path.\n",
            "/usr/local/lib/python3.6/dist-packages/ipykernel_launcher.py:4: SettingWithCopyWarning: \n",
            "A value is trying to be set on a copy of a slice from a DataFrame.\n",
            "Try using .loc[row_indexer,col_indexer] = value instead\n",
            "\n",
            "See the caveats in the documentation: http://pandas.pydata.org/pandas-docs/stable/indexing.html#indexing-view-versus-copy\n",
            "  after removing the cwd from sys.path.\n",
            "/usr/local/lib/python3.6/dist-packages/ipykernel_launcher.py:4: SettingWithCopyWarning: \n",
            "A value is trying to be set on a copy of a slice from a DataFrame.\n",
            "Try using .loc[row_indexer,col_indexer] = value instead\n",
            "\n",
            "See the caveats in the documentation: http://pandas.pydata.org/pandas-docs/stable/indexing.html#indexing-view-versus-copy\n",
            "  after removing the cwd from sys.path.\n",
            "/usr/local/lib/python3.6/dist-packages/ipykernel_launcher.py:4: SettingWithCopyWarning: \n",
            "A value is trying to be set on a copy of a slice from a DataFrame.\n",
            "Try using .loc[row_indexer,col_indexer] = value instead\n",
            "\n",
            "See the caveats in the documentation: http://pandas.pydata.org/pandas-docs/stable/indexing.html#indexing-view-versus-copy\n",
            "  after removing the cwd from sys.path.\n",
            "/usr/local/lib/python3.6/dist-packages/ipykernel_launcher.py:4: SettingWithCopyWarning: \n",
            "A value is trying to be set on a copy of a slice from a DataFrame.\n",
            "Try using .loc[row_indexer,col_indexer] = value instead\n",
            "\n",
            "See the caveats in the documentation: http://pandas.pydata.org/pandas-docs/stable/indexing.html#indexing-view-versus-copy\n",
            "  after removing the cwd from sys.path.\n",
            "/usr/local/lib/python3.6/dist-packages/ipykernel_launcher.py:4: SettingWithCopyWarning: \n",
            "A value is trying to be set on a copy of a slice from a DataFrame.\n",
            "Try using .loc[row_indexer,col_indexer] = value instead\n",
            "\n",
            "See the caveats in the documentation: http://pandas.pydata.org/pandas-docs/stable/indexing.html#indexing-view-versus-copy\n",
            "  after removing the cwd from sys.path.\n",
            "/usr/local/lib/python3.6/dist-packages/ipykernel_launcher.py:4: SettingWithCopyWarning: \n",
            "A value is trying to be set on a copy of a slice from a DataFrame.\n",
            "Try using .loc[row_indexer,col_indexer] = value instead\n",
            "\n",
            "See the caveats in the documentation: http://pandas.pydata.org/pandas-docs/stable/indexing.html#indexing-view-versus-copy\n",
            "  after removing the cwd from sys.path.\n",
            "/usr/local/lib/python3.6/dist-packages/ipykernel_launcher.py:4: SettingWithCopyWarning: \n",
            "A value is trying to be set on a copy of a slice from a DataFrame.\n",
            "Try using .loc[row_indexer,col_indexer] = value instead\n",
            "\n",
            "See the caveats in the documentation: http://pandas.pydata.org/pandas-docs/stable/indexing.html#indexing-view-versus-copy\n",
            "  after removing the cwd from sys.path.\n",
            "/usr/local/lib/python3.6/dist-packages/ipykernel_launcher.py:4: SettingWithCopyWarning: \n",
            "A value is trying to be set on a copy of a slice from a DataFrame.\n",
            "Try using .loc[row_indexer,col_indexer] = value instead\n",
            "\n",
            "See the caveats in the documentation: http://pandas.pydata.org/pandas-docs/stable/indexing.html#indexing-view-versus-copy\n",
            "  after removing the cwd from sys.path.\n",
            "/usr/local/lib/python3.6/dist-packages/ipykernel_launcher.py:4: SettingWithCopyWarning: \n",
            "A value is trying to be set on a copy of a slice from a DataFrame.\n",
            "Try using .loc[row_indexer,col_indexer] = value instead\n",
            "\n",
            "See the caveats in the documentation: http://pandas.pydata.org/pandas-docs/stable/indexing.html#indexing-view-versus-copy\n",
            "  after removing the cwd from sys.path.\n",
            "/usr/local/lib/python3.6/dist-packages/ipykernel_launcher.py:4: SettingWithCopyWarning: \n",
            "A value is trying to be set on a copy of a slice from a DataFrame.\n",
            "Try using .loc[row_indexer,col_indexer] = value instead\n",
            "\n",
            "See the caveats in the documentation: http://pandas.pydata.org/pandas-docs/stable/indexing.html#indexing-view-versus-copy\n",
            "  after removing the cwd from sys.path.\n",
            "/usr/local/lib/python3.6/dist-packages/ipykernel_launcher.py:4: SettingWithCopyWarning: \n",
            "A value is trying to be set on a copy of a slice from a DataFrame.\n",
            "Try using .loc[row_indexer,col_indexer] = value instead\n",
            "\n",
            "See the caveats in the documentation: http://pandas.pydata.org/pandas-docs/stable/indexing.html#indexing-view-versus-copy\n",
            "  after removing the cwd from sys.path.\n",
            "/usr/local/lib/python3.6/dist-packages/ipykernel_launcher.py:2: SettingWithCopyWarning: \n",
            "A value is trying to be set on a copy of a slice from a DataFrame.\n",
            "Try using .loc[row_indexer,col_indexer] = value instead\n",
            "\n",
            "See the caveats in the documentation: http://pandas.pydata.org/pandas-docs/stable/indexing.html#indexing-view-versus-copy\n",
            "  \n",
            "/usr/local/lib/python3.6/dist-packages/ipykernel_launcher.py:4: SettingWithCopyWarning: \n",
            "A value is trying to be set on a copy of a slice from a DataFrame.\n",
            "Try using .loc[row_indexer,col_indexer] = value instead\n",
            "\n",
            "See the caveats in the documentation: http://pandas.pydata.org/pandas-docs/stable/indexing.html#indexing-view-versus-copy\n",
            "  after removing the cwd from sys.path.\n",
            "/usr/local/lib/python3.6/dist-packages/ipykernel_launcher.py:4: SettingWithCopyWarning: \n",
            "A value is trying to be set on a copy of a slice from a DataFrame.\n",
            "Try using .loc[row_indexer,col_indexer] = value instead\n",
            "\n",
            "See the caveats in the documentation: http://pandas.pydata.org/pandas-docs/stable/indexing.html#indexing-view-versus-copy\n",
            "  after removing the cwd from sys.path.\n",
            "/usr/local/lib/python3.6/dist-packages/ipykernel_launcher.py:4: SettingWithCopyWarning: \n",
            "A value is trying to be set on a copy of a slice from a DataFrame.\n",
            "Try using .loc[row_indexer,col_indexer] = value instead\n",
            "\n",
            "See the caveats in the documentation: http://pandas.pydata.org/pandas-docs/stable/indexing.html#indexing-view-versus-copy\n",
            "  after removing the cwd from sys.path.\n",
            "/usr/local/lib/python3.6/dist-packages/ipykernel_launcher.py:4: SettingWithCopyWarning: \n",
            "A value is trying to be set on a copy of a slice from a DataFrame.\n",
            "Try using .loc[row_indexer,col_indexer] = value instead\n",
            "\n",
            "See the caveats in the documentation: http://pandas.pydata.org/pandas-docs/stable/indexing.html#indexing-view-versus-copy\n",
            "  after removing the cwd from sys.path.\n",
            "/usr/local/lib/python3.6/dist-packages/ipykernel_launcher.py:4: SettingWithCopyWarning: \n",
            "A value is trying to be set on a copy of a slice from a DataFrame.\n",
            "Try using .loc[row_indexer,col_indexer] = value instead\n",
            "\n",
            "See the caveats in the documentation: http://pandas.pydata.org/pandas-docs/stable/indexing.html#indexing-view-versus-copy\n",
            "  after removing the cwd from sys.path.\n",
            "/usr/local/lib/python3.6/dist-packages/ipykernel_launcher.py:4: SettingWithCopyWarning: \n",
            "A value is trying to be set on a copy of a slice from a DataFrame.\n",
            "Try using .loc[row_indexer,col_indexer] = value instead\n",
            "\n",
            "See the caveats in the documentation: http://pandas.pydata.org/pandas-docs/stable/indexing.html#indexing-view-versus-copy\n",
            "  after removing the cwd from sys.path.\n",
            "/usr/local/lib/python3.6/dist-packages/ipykernel_launcher.py:4: SettingWithCopyWarning: \n",
            "A value is trying to be set on a copy of a slice from a DataFrame.\n",
            "Try using .loc[row_indexer,col_indexer] = value instead\n",
            "\n",
            "See the caveats in the documentation: http://pandas.pydata.org/pandas-docs/stable/indexing.html#indexing-view-versus-copy\n",
            "  after removing the cwd from sys.path.\n",
            "/usr/local/lib/python3.6/dist-packages/ipykernel_launcher.py:4: SettingWithCopyWarning: \n",
            "A value is trying to be set on a copy of a slice from a DataFrame.\n",
            "Try using .loc[row_indexer,col_indexer] = value instead\n",
            "\n",
            "See the caveats in the documentation: http://pandas.pydata.org/pandas-docs/stable/indexing.html#indexing-view-versus-copy\n",
            "  after removing the cwd from sys.path.\n",
            "/usr/local/lib/python3.6/dist-packages/ipykernel_launcher.py:4: SettingWithCopyWarning: \n",
            "A value is trying to be set on a copy of a slice from a DataFrame.\n",
            "Try using .loc[row_indexer,col_indexer] = value instead\n",
            "\n",
            "See the caveats in the documentation: http://pandas.pydata.org/pandas-docs/stable/indexing.html#indexing-view-versus-copy\n",
            "  after removing the cwd from sys.path.\n",
            "/usr/local/lib/python3.6/dist-packages/ipykernel_launcher.py:4: SettingWithCopyWarning: \n",
            "A value is trying to be set on a copy of a slice from a DataFrame.\n",
            "Try using .loc[row_indexer,col_indexer] = value instead\n",
            "\n",
            "See the caveats in the documentation: http://pandas.pydata.org/pandas-docs/stable/indexing.html#indexing-view-versus-copy\n",
            "  after removing the cwd from sys.path.\n",
            "/usr/local/lib/python3.6/dist-packages/ipykernel_launcher.py:4: SettingWithCopyWarning: \n",
            "A value is trying to be set on a copy of a slice from a DataFrame.\n",
            "Try using .loc[row_indexer,col_indexer] = value instead\n",
            "\n",
            "See the caveats in the documentation: http://pandas.pydata.org/pandas-docs/stable/indexing.html#indexing-view-versus-copy\n",
            "  after removing the cwd from sys.path.\n",
            "/usr/local/lib/python3.6/dist-packages/ipykernel_launcher.py:4: SettingWithCopyWarning: \n",
            "A value is trying to be set on a copy of a slice from a DataFrame.\n",
            "Try using .loc[row_indexer,col_indexer] = value instead\n",
            "\n",
            "See the caveats in the documentation: http://pandas.pydata.org/pandas-docs/stable/indexing.html#indexing-view-versus-copy\n",
            "  after removing the cwd from sys.path.\n",
            "/usr/local/lib/python3.6/dist-packages/ipykernel_launcher.py:4: SettingWithCopyWarning: \n",
            "A value is trying to be set on a copy of a slice from a DataFrame.\n",
            "Try using .loc[row_indexer,col_indexer] = value instead\n",
            "\n",
            "See the caveats in the documentation: http://pandas.pydata.org/pandas-docs/stable/indexing.html#indexing-view-versus-copy\n",
            "  after removing the cwd from sys.path.\n",
            "/usr/local/lib/python3.6/dist-packages/ipykernel_launcher.py:4: SettingWithCopyWarning: \n",
            "A value is trying to be set on a copy of a slice from a DataFrame.\n",
            "Try using .loc[row_indexer,col_indexer] = value instead\n",
            "\n",
            "See the caveats in the documentation: http://pandas.pydata.org/pandas-docs/stable/indexing.html#indexing-view-versus-copy\n",
            "  after removing the cwd from sys.path.\n",
            "/usr/local/lib/python3.6/dist-packages/ipykernel_launcher.py:4: SettingWithCopyWarning: \n",
            "A value is trying to be set on a copy of a slice from a DataFrame.\n",
            "Try using .loc[row_indexer,col_indexer] = value instead\n",
            "\n",
            "See the caveats in the documentation: http://pandas.pydata.org/pandas-docs/stable/indexing.html#indexing-view-versus-copy\n",
            "  after removing the cwd from sys.path.\n",
            "/usr/local/lib/python3.6/dist-packages/ipykernel_launcher.py:4: SettingWithCopyWarning: \n",
            "A value is trying to be set on a copy of a slice from a DataFrame.\n",
            "Try using .loc[row_indexer,col_indexer] = value instead\n",
            "\n",
            "See the caveats in the documentation: http://pandas.pydata.org/pandas-docs/stable/indexing.html#indexing-view-versus-copy\n",
            "  after removing the cwd from sys.path.\n",
            "/usr/local/lib/python3.6/dist-packages/ipykernel_launcher.py:4: SettingWithCopyWarning: \n",
            "A value is trying to be set on a copy of a slice from a DataFrame.\n",
            "Try using .loc[row_indexer,col_indexer] = value instead\n",
            "\n",
            "See the caveats in the documentation: http://pandas.pydata.org/pandas-docs/stable/indexing.html#indexing-view-versus-copy\n",
            "  after removing the cwd from sys.path.\n",
            "/usr/local/lib/python3.6/dist-packages/ipykernel_launcher.py:4: SettingWithCopyWarning: \n",
            "A value is trying to be set on a copy of a slice from a DataFrame.\n",
            "Try using .loc[row_indexer,col_indexer] = value instead\n",
            "\n",
            "See the caveats in the documentation: http://pandas.pydata.org/pandas-docs/stable/indexing.html#indexing-view-versus-copy\n",
            "  after removing the cwd from sys.path.\n",
            "/usr/local/lib/python3.6/dist-packages/ipykernel_launcher.py:2: SettingWithCopyWarning: \n",
            "A value is trying to be set on a copy of a slice from a DataFrame.\n",
            "Try using .loc[row_indexer,col_indexer] = value instead\n",
            "\n",
            "See the caveats in the documentation: http://pandas.pydata.org/pandas-docs/stable/indexing.html#indexing-view-versus-copy\n",
            "  \n",
            "/usr/local/lib/python3.6/dist-packages/ipykernel_launcher.py:4: SettingWithCopyWarning: \n",
            "A value is trying to be set on a copy of a slice from a DataFrame.\n",
            "Try using .loc[row_indexer,col_indexer] = value instead\n",
            "\n",
            "See the caveats in the documentation: http://pandas.pydata.org/pandas-docs/stable/indexing.html#indexing-view-versus-copy\n",
            "  after removing the cwd from sys.path.\n",
            "/usr/local/lib/python3.6/dist-packages/ipykernel_launcher.py:4: SettingWithCopyWarning: \n",
            "A value is trying to be set on a copy of a slice from a DataFrame.\n",
            "Try using .loc[row_indexer,col_indexer] = value instead\n",
            "\n",
            "See the caveats in the documentation: http://pandas.pydata.org/pandas-docs/stable/indexing.html#indexing-view-versus-copy\n",
            "  after removing the cwd from sys.path.\n",
            "/usr/local/lib/python3.6/dist-packages/ipykernel_launcher.py:4: SettingWithCopyWarning: \n",
            "A value is trying to be set on a copy of a slice from a DataFrame.\n",
            "Try using .loc[row_indexer,col_indexer] = value instead\n",
            "\n",
            "See the caveats in the documentation: http://pandas.pydata.org/pandas-docs/stable/indexing.html#indexing-view-versus-copy\n",
            "  after removing the cwd from sys.path.\n",
            "/usr/local/lib/python3.6/dist-packages/ipykernel_launcher.py:4: SettingWithCopyWarning: \n",
            "A value is trying to be set on a copy of a slice from a DataFrame.\n",
            "Try using .loc[row_indexer,col_indexer] = value instead\n",
            "\n",
            "See the caveats in the documentation: http://pandas.pydata.org/pandas-docs/stable/indexing.html#indexing-view-versus-copy\n",
            "  after removing the cwd from sys.path.\n",
            "/usr/local/lib/python3.6/dist-packages/ipykernel_launcher.py:4: SettingWithCopyWarning: \n",
            "A value is trying to be set on a copy of a slice from a DataFrame.\n",
            "Try using .loc[row_indexer,col_indexer] = value instead\n",
            "\n",
            "See the caveats in the documentation: http://pandas.pydata.org/pandas-docs/stable/indexing.html#indexing-view-versus-copy\n",
            "  after removing the cwd from sys.path.\n",
            "/usr/local/lib/python3.6/dist-packages/ipykernel_launcher.py:4: SettingWithCopyWarning: \n",
            "A value is trying to be set on a copy of a slice from a DataFrame.\n",
            "Try using .loc[row_indexer,col_indexer] = value instead\n",
            "\n",
            "See the caveats in the documentation: http://pandas.pydata.org/pandas-docs/stable/indexing.html#indexing-view-versus-copy\n",
            "  after removing the cwd from sys.path.\n",
            "/usr/local/lib/python3.6/dist-packages/ipykernel_launcher.py:4: SettingWithCopyWarning: \n",
            "A value is trying to be set on a copy of a slice from a DataFrame.\n",
            "Try using .loc[row_indexer,col_indexer] = value instead\n",
            "\n",
            "See the caveats in the documentation: http://pandas.pydata.org/pandas-docs/stable/indexing.html#indexing-view-versus-copy\n",
            "  after removing the cwd from sys.path.\n",
            "/usr/local/lib/python3.6/dist-packages/ipykernel_launcher.py:4: SettingWithCopyWarning: \n",
            "A value is trying to be set on a copy of a slice from a DataFrame.\n",
            "Try using .loc[row_indexer,col_indexer] = value instead\n",
            "\n",
            "See the caveats in the documentation: http://pandas.pydata.org/pandas-docs/stable/indexing.html#indexing-view-versus-copy\n",
            "  after removing the cwd from sys.path.\n",
            "/usr/local/lib/python3.6/dist-packages/ipykernel_launcher.py:4: SettingWithCopyWarning: \n",
            "A value is trying to be set on a copy of a slice from a DataFrame.\n",
            "Try using .loc[row_indexer,col_indexer] = value instead\n",
            "\n",
            "See the caveats in the documentation: http://pandas.pydata.org/pandas-docs/stable/indexing.html#indexing-view-versus-copy\n",
            "  after removing the cwd from sys.path.\n",
            "/usr/local/lib/python3.6/dist-packages/ipykernel_launcher.py:4: SettingWithCopyWarning: \n",
            "A value is trying to be set on a copy of a slice from a DataFrame.\n",
            "Try using .loc[row_indexer,col_indexer] = value instead\n",
            "\n",
            "See the caveats in the documentation: http://pandas.pydata.org/pandas-docs/stable/indexing.html#indexing-view-versus-copy\n",
            "  after removing the cwd from sys.path.\n",
            "/usr/local/lib/python3.6/dist-packages/ipykernel_launcher.py:4: SettingWithCopyWarning: \n",
            "A value is trying to be set on a copy of a slice from a DataFrame.\n",
            "Try using .loc[row_indexer,col_indexer] = value instead\n",
            "\n",
            "See the caveats in the documentation: http://pandas.pydata.org/pandas-docs/stable/indexing.html#indexing-view-versus-copy\n",
            "  after removing the cwd from sys.path.\n",
            "/usr/local/lib/python3.6/dist-packages/ipykernel_launcher.py:4: SettingWithCopyWarning: \n",
            "A value is trying to be set on a copy of a slice from a DataFrame.\n",
            "Try using .loc[row_indexer,col_indexer] = value instead\n",
            "\n",
            "See the caveats in the documentation: http://pandas.pydata.org/pandas-docs/stable/indexing.html#indexing-view-versus-copy\n",
            "  after removing the cwd from sys.path.\n",
            "/usr/local/lib/python3.6/dist-packages/ipykernel_launcher.py:4: SettingWithCopyWarning: \n",
            "A value is trying to be set on a copy of a slice from a DataFrame.\n",
            "Try using .loc[row_indexer,col_indexer] = value instead\n",
            "\n",
            "See the caveats in the documentation: http://pandas.pydata.org/pandas-docs/stable/indexing.html#indexing-view-versus-copy\n",
            "  after removing the cwd from sys.path.\n",
            "/usr/local/lib/python3.6/dist-packages/ipykernel_launcher.py:4: SettingWithCopyWarning: \n",
            "A value is trying to be set on a copy of a slice from a DataFrame.\n",
            "Try using .loc[row_indexer,col_indexer] = value instead\n",
            "\n",
            "See the caveats in the documentation: http://pandas.pydata.org/pandas-docs/stable/indexing.html#indexing-view-versus-copy\n",
            "  after removing the cwd from sys.path.\n",
            "/usr/local/lib/python3.6/dist-packages/ipykernel_launcher.py:4: SettingWithCopyWarning: \n",
            "A value is trying to be set on a copy of a slice from a DataFrame.\n",
            "Try using .loc[row_indexer,col_indexer] = value instead\n",
            "\n",
            "See the caveats in the documentation: http://pandas.pydata.org/pandas-docs/stable/indexing.html#indexing-view-versus-copy\n",
            "  after removing the cwd from sys.path.\n",
            "/usr/local/lib/python3.6/dist-packages/ipykernel_launcher.py:4: SettingWithCopyWarning: \n",
            "A value is trying to be set on a copy of a slice from a DataFrame.\n",
            "Try using .loc[row_indexer,col_indexer] = value instead\n",
            "\n",
            "See the caveats in the documentation: http://pandas.pydata.org/pandas-docs/stable/indexing.html#indexing-view-versus-copy\n",
            "  after removing the cwd from sys.path.\n",
            "/usr/local/lib/python3.6/dist-packages/ipykernel_launcher.py:4: SettingWithCopyWarning: \n",
            "A value is trying to be set on a copy of a slice from a DataFrame.\n",
            "Try using .loc[row_indexer,col_indexer] = value instead\n",
            "\n",
            "See the caveats in the documentation: http://pandas.pydata.org/pandas-docs/stable/indexing.html#indexing-view-versus-copy\n",
            "  after removing the cwd from sys.path.\n",
            "/usr/local/lib/python3.6/dist-packages/ipykernel_launcher.py:4: SettingWithCopyWarning: \n",
            "A value is trying to be set on a copy of a slice from a DataFrame.\n",
            "Try using .loc[row_indexer,col_indexer] = value instead\n",
            "\n",
            "See the caveats in the documentation: http://pandas.pydata.org/pandas-docs/stable/indexing.html#indexing-view-versus-copy\n",
            "  after removing the cwd from sys.path.\n",
            "/usr/local/lib/python3.6/dist-packages/ipykernel_launcher.py:4: SettingWithCopyWarning: \n",
            "A value is trying to be set on a copy of a slice from a DataFrame.\n",
            "Try using .loc[row_indexer,col_indexer] = value instead\n",
            "\n",
            "See the caveats in the documentation: http://pandas.pydata.org/pandas-docs/stable/indexing.html#indexing-view-versus-copy\n",
            "  after removing the cwd from sys.path.\n"
          ],
          "name": "stderr"
        }
      ]
    },
    {
      "cell_type": "code",
      "metadata": {
        "colab_type": "code",
        "id": "CgicxCHzBHs2",
        "colab": {
          "base_uri": "https://localhost:8080/",
          "height": 1000
        },
        "outputId": "56281e27-d780-4c9b-94e3-c092439b7f54"
      },
      "source": [
        "# Figure 2: Gap between posts\n",
        "#    For a user who churns, gap between consecutive posts keeps increasing. \n",
        "#    Gaps for those who stay are much lower, and stabilize around 20,000 minutes,\n",
        "#    indicating routine posting activity in every ≈2 weeks.\n",
        "clist = []\n",
        "slist = []\n",
        "for K in list_of_K:\n",
        "    subgroup = features_of_task1[K]\n",
        "    churners_gap = []\n",
        "    stayers_gap = []\n",
        "    for i in range(2, K+1):\n",
        "        gapK = 'gap{}'.format(i)\n",
        "        sum_gapK = list(subgroup.groupby('is_churn')[gapK].sum())\n",
        "        count_gapK = list(subgroup.groupby('is_churn')[gapK].count())\n",
        "        if len(sum_gapK) < 2:\n",
        "            break\n",
        "        churners_gap.append(sum_gapK[1] / count_gapK[1])\n",
        "        stayers_gap.append(sum_gapK[0] / count_gapK[0])\n",
        "\n",
        "    clist.append(churners_gap)\n",
        "    slist.append(stayers_gap)\n",
        "    \n",
        "    print(\"K={}\".format(K))\n",
        "    plt.plot(churners_gap, '-o', label='churner')\n",
        "    plt.plot(stayers_gap, '-o', label='stayer')\n",
        "    plt.legend()\n",
        "    plt.axis((0,20,0,15e4))\n",
        "    plt.show()"
      ],
      "execution_count": 23,
      "outputs": [
        {
          "output_type": "stream",
          "text": [
            "K=1\n"
          ],
          "name": "stdout"
        },
        {
          "output_type": "display_data",
          "data": {
            "image/png": "[encoded data removed]",
            "text/plain": [
              "<Figure size 432x288 with 1 Axes>"
            ]
          },
          "metadata": {
            "tags": []
          }
        },
        {
          "output_type": "stream",
          "text": [
            "K=2\n"
          ],
          "name": "stdout"
        },
        {
          "output_type": "display_data",
          "data": {
            "image/png": "[encoded data removed]",
            "text/plain": [
              "<Figure size 432x288 with 1 Axes>"
            ]
          },
          "metadata": {
            "tags": []
          }
        },
        {
          "output_type": "stream",
          "text": [
            "K=3\n"
          ],
          "name": "stdout"
        },
        {
          "output_type": "display_data",
          "data": {
            "image/png": "[encoded data removed]",
            "text/plain": [
              "<Figure size 432x288 with 1 Axes>"
            ]
          },
          "metadata": {
            "tags": []
          }
        },
        {
          "output_type": "stream",
          "text": [
            "K=4\n"
          ],
          "name": "stdout"
        },
        {
          "output_type": "display_data",
          "data": {
            "image/png": "[encoded data removed]",
            "text/plain": [
              "<Figure size 432x288 with 1 Axes>"
            ]
          },
          "metadata": {
            "tags": []
          }
        },
        {
          "output_type": "stream",
          "text": [
            "K=5\n"
          ],
          "name": "stdout"
        },
        {
          "output_type": "display_data",
          "data": {
            "image/png": "[encoded data removed]",
            "text/plain": [
              "<Figure size 432x288 with 1 Axes>"
            ]
          },
          "metadata": {
            "tags": []
          }
        },
        {
          "output_type": "stream",
          "text": [
            "K=6\n"
          ],
          "name": "stdout"
        },
        {
          "output_type": "display_data",
          "data": {
            "image/png": "[encoded data removed]",
            "text/plain": [
              "<Figure size 432x288 with 1 Axes>"
            ]
          },
          "metadata": {
            "tags": []
          }
        },
        {
          "output_type": "stream",
          "text": [
            "K=7\n"
          ],
          "name": "stdout"
        },
        {
          "output_type": "display_data",
          "data": {
            "image/png": "[encoded data removed]",
            "text/plain": [
              "<Figure size 432x288 with 1 Axes>"
            ]
          },
          "metadata": {
            "tags": []
          }
        },
        {
          "output_type": "stream",
          "text": [
            "K=8\n"
          ],
          "name": "stdout"
        },
        {
          "output_type": "display_data",
          "data": {
            "image/png": "[encoded data removed]",
            "text/plain": [
              "<Figure size 432x288 with 1 Axes>"
            ]
          },
          "metadata": {
            "tags": []
          }
        },
        {
          "output_type": "stream",
          "text": [
            "K=9\n"
          ],
          "name": "stdout"
        },
        {
          "output_type": "display_data",
          "data": {
            "image/png": "[encoded data removed]",
            "text/plain": [
              "<Figure size 432x288 with 1 Axes>"
            ]
          },
          "metadata": {
            "tags": []
          }
        },
        {
          "output_type": "stream",
          "text": [
            "K=10\n"
          ],
          "name": "stdout"
        },
        {
          "output_type": "display_data",
          "data": {
            "image/png": "[encoded data removed]",
            "text/plain": [
              "<Figure size 432x288 with 1 Axes>"
            ]
          },
          "metadata": {
            "tags": []
          }
        },
        {
          "output_type": "stream",
          "text": [
            "K=11\n"
          ],
          "name": "stdout"
        },
        {
          "output_type": "display_data",
          "data": {
            "image/png": "[encoded data removed]",
            "text/plain": [
              "<Figure size 432x288 with 1 Axes>"
            ]
          },
          "metadata": {
            "tags": []
          }
        },
        {
          "output_type": "stream",
          "text": [
            "K=12\n"
          ],
          "name": "stdout"
        },
        {
          "output_type": "display_data",
          "data": {
            "image/png": "[encoded data removed]",
            "text/plain": [
              "<Figure size 432x288 with 1 Axes>"
            ]
          },
          "metadata": {
            "tags": []
          }
        },
        {
          "output_type": "stream",
          "text": [
            "K=13\n"
          ],
          "name": "stdout"
        },
        {
          "output_type": "display_data",
          "data": {
            "image/png": "[encoded data removed]",
            "text/plain": [
              "<Figure size 432x288 with 1 Axes>"
            ]
          },
          "metadata": {
            "tags": []
          }
        },
        {
          "output_type": "stream",
          "text": [
            "K=14\n"
          ],
          "name": "stdout"
        },
        {
          "output_type": "display_data",
          "data": {
            "image/png": "[encoded data removed]",
            "text/plain": [
              "<Figure size 432x288 with 1 Axes>"
            ]
          },
          "metadata": {
            "tags": []
          }
        },
        {
          "output_type": "stream",
          "text": [
            "K=15\n"
          ],
          "name": "stdout"
        },
        {
          "output_type": "display_data",
          "data": {
            "image/png": "[encoded data removed]",
            "text/plain": [
              "<Figure size 432x288 with 1 Axes>"
            ]
          },
          "metadata": {
            "tags": []
          }
        },
        {
          "output_type": "stream",
          "text": [
            "K=16\n"
          ],
          "name": "stdout"
        },
        {
          "output_type": "display_data",
          "data": {
            "image/png": "[encoded data removed]",
            "text/plain": [
              "<Figure size 432x288 with 1 Axes>"
            ]
          },
          "metadata": {
            "tags": []
          }
        },
        {
          "output_type": "stream",
          "text": [
            "K=17\n"
          ],
          "name": "stdout"
        },
        {
          "output_type": "display_data",
          "data": {
            "image/png": "[encoded data removed]",
            "text/plain": [
              "<Figure size 432x288 with 1 Axes>"
            ]
          },
          "metadata": {
            "tags": []
          }
        },
        {
          "output_type": "stream",
          "text": [
            "K=18\n"
          ],
          "name": "stdout"
        },
        {
          "output_type": "display_data",
          "data": {
            "image/png": "[encoded data removed]",
            "text/plain": [
              "<Figure size 432x288 with 1 Axes>"
            ]
          },
          "metadata": {
            "tags": []
          }
        },
        {
          "output_type": "stream",
          "text": [
            "K=19\n"
          ],
          "name": "stdout"
        },
        {
          "output_type": "display_data",
          "data": {
            "image/png": "[encoded data removed]",
            "text/plain": [
              "<Figure size 432x288 with 1 Axes>"
            ]
          },
          "metadata": {
            "tags": []
          }
        },
        {
          "output_type": "stream",
          "text": [
            "K=20\n"
          ],
          "name": "stdout"
        },
        {
          "output_type": "display_data",
          "data": {
            "image/png": "[encoded data removed]",
            "text/plain": [
              "<Figure size 432x288 with 1 Axes>"
            ]
          },
          "metadata": {
            "tags": []
          }
        }
      ]
    },
    {
      "cell_type": "code",
      "metadata": {
        "colab_type": "code",
        "id": "DQFQBkpbB6_D",
        "outputId": "034ef529-c5e4-4019-d924-cf670399b098",
        "colab": {
          "base_uri": "https://localhost:8080/",
          "height": 521
        }
      },
      "source": [
        "fig = plt.figure()\n",
        "ax1 = fig.add_subplot(2, 2, 1)\n",
        "ax2 = fig.add_subplot(2, 2, 2)\n",
        "ax3 = fig.add_subplot(2, 2, 3)\n",
        "ax4 = fig.add_subplot(2, 2, 4)\n",
        "axlist = [ax1, ax2, ax3, ax4]\n",
        "for c, s, ax in zip(clist[1:], slist[1:], axlist):\n",
        "    ax.plot(c, marker='.', label='churner')\n",
        "    ax.plot(s, marker='.', label='stayer')\n",
        "    ax.legend()\n",
        "    ax.axis((0,20,0,15e4))\n",
        "plt.show()\n",
        "\n",
        "fig = plt.figure()\n",
        "ax1 = fig.add_subplot(2, 2, 1)\n",
        "ax2 = fig.add_subplot(2, 2, 2)\n",
        "ax3 = fig.add_subplot(2, 2, 3)\n",
        "ax4 = fig.add_subplot(2, 2, 4)\n",
        "axlist = [ax1, ax2, ax3, ax4]\n",
        "for c, s, ax in zip(clist[-4:], slist[-4:], axlist):\n",
        "    ax.plot(c, marker='.', label='churner')\n",
        "    ax.plot(s, marker='.', label='stayer')\n",
        "    ax.legend(loc='upper left')\n",
        "    ax.axis((0,20,0,15e4))\n",
        "plt.show()"
      ],
      "execution_count": 24,
      "outputs": [
        {
          "output_type": "display_data",
          "data": {
            "image/png": "[encoded data removed]",
            "text/plain": [
              "<Figure size 432x288 with 4 Axes>"
            ]
          },
          "metadata": {
            "tags": []
          }
        },
        {
          "output_type": "display_data",
          "data": {
            "image/png": "[encoded data removed]",
            "text/plain": [
              "<Figure size 432x288 with 4 Axes>"
            ]
          },
          "metadata": {
            "tags": []
          }
        }
      ]
    },
    {
      "cell_type": "code",
      "metadata": {
        "colab_type": "code",
        "id": "JlWoElW9CFcV",
        "colab": {}
      },
      "source": [
        "# Extract temporal features for task2\n",
        "for T in list_of_T:\n",
        "    users, posts = users_of_task2[T], posts_of_task2[T]\n",
        "    features_of_task2[T]['gap1'] = getTimeGap1OfUser(users, posts)\n",
        "    features_of_task2[T]['last_gap'] = getTimeLastGapOfPosts(posts).fillna(features_of_task2[T]['gap1'])\n",
        "    #features_of_task2[T]['last_gap'] = getTimeLastGapOfPosts(posts).fillna(0)\n",
        "    features_of_task2[T]['time_since_last_post'] = getTimeSinceLastPost(users, posts, T)\n",
        "    features_of_task2[T]['mean_gap'] = getTimeMeanGap(posts)\n",
        "  \n"
      ],
      "execution_count": 0,
      "outputs": []
    },
    {
      "cell_type": "markdown",
      "metadata": {
        "colab_type": "text",
        "id": "rB7E22Q4MSWR"
      },
      "source": [
        "3-2. Frequency features"
      ]
    },
    {
      "cell_type": "code",
      "metadata": {
        "colab_type": "code",
        "id": "wpECyr9kMTvJ",
        "colab": {}
      },
      "source": [
        "# Frequency features 1: num_answers\n",
        "# Frequency features 2: num_questions\n",
        "def getNumAnswers(posts):\n",
        "    answers = posts[posts['PostTypeId'] == 2]\n",
        "    return answers.groupby('OwnerUserId')['OwnerUserId'].count()\n",
        "\n",
        "def getNumQuestions(posts):\n",
        "    questions = posts[posts['PostTypeId'] == 1]\n",
        "    return questions.groupby('OwnerUserId')['OwnerUserId'].count()\n"
      ],
      "execution_count": 0,
      "outputs": []
    },
    {
      "cell_type": "code",
      "metadata": {
        "colab_type": "code",
        "id": "KqmIPayXNHqY",
        "colab": {}
      },
      "source": [
        "# Frequency features 3: ans_ques_ratio\n",
        "def getAnsQuesRatio(num_answers, num_questions):\n",
        "    # Use Laplace Smoothing\n",
        "    return (num_answers + 1) / (num_questions + 1)\n"
      ],
      "execution_count": 0,
      "outputs": []
    },
    {
      "cell_type": "code",
      "metadata": {
        "colab_type": "code",
        "id": "PNWqcYeONJvE",
        "colab": {}
      },
      "source": [
        "# Frequency features 4: num_posts\n",
        "def getNumPosts(posts):\n",
        "    return posts.groupby('OwnerUserId')['OwnerUserId'].count().astype('float')"
      ],
      "execution_count": 0,
      "outputs": []
    },
    {
      "cell_type": "code",
      "metadata": {
        "colab_type": "code",
        "id": "_jRcG-juDigR",
        "outputId": "21c5a8cb-6d53-4d96-89d7-905294c24dcd",
        "colab": {
          "base_uri": "https://localhost:8080/",
          "height": 241
        }
      },
      "source": [
        "# Extract frequency features of task1\n",
        "for K in list_of_K:\n",
        "    users, posts = users_of_task1[K], posts_of_task1[K]\n",
        "    features_of_task1[K]['num_answers'] = getNumAnswers(posts)\n",
        "    features_of_task1[K]['num_questions'] = getNumQuestions(posts)\n",
        "    features_of_task1[K] = features_of_task1[K].fillna({'num_answers':0, 'num_questions':0})\n",
        "    features_of_task1[K]['ans_que_ratio'] = \\\n",
        "        getAnsQuesRatio(features_of_task1[K]['num_answers'], features_of_task1[K]['num_questions'])"
      ],
      "execution_count": 29,
      "outputs": [
        {
          "output_type": "stream",
          "text": [
            "/usr/local/lib/python3.6/dist-packages/ipykernel_launcher.py:3: SettingWithCopyWarning: \n",
            "A value is trying to be set on a copy of a slice from a DataFrame.\n",
            "Try using .loc[row_indexer,col_indexer] = value instead\n",
            "\n",
            "See the caveats in the documentation: http://pandas.pydata.org/pandas-docs/stable/indexing.html#indexing-view-versus-copy\n",
            "  This is separate from the ipykernel package so we can avoid doing imports until\n",
            "/usr/local/lib/python3.6/dist-packages/ipykernel_launcher.py:4: SettingWithCopyWarning: \n",
            "A value is trying to be set on a copy of a slice from a DataFrame.\n",
            "Try using .loc[row_indexer,col_indexer] = value instead\n",
            "\n",
            "See the caveats in the documentation: http://pandas.pydata.org/pandas-docs/stable/indexing.html#indexing-view-versus-copy\n",
            "  after removing the cwd from sys.path.\n"
          ],
          "name": "stderr"
        }
      ]
    },
    {
      "cell_type": "code",
      "metadata": {
        "colab_type": "code",
        "id": "pHo_ds2wFRWB",
        "colab": {}
      },
      "source": [
        "# Extract frequency features of task2\n",
        "for T in list_of_T:\n",
        "    users, posts = users_of_task2[T], posts_of_task2[T]\n",
        "    features_of_task2[T]['num_answers'] = getNumAnswers(posts)\n",
        "    features_of_task2[T]['num_questions'] = getNumQuestions(posts)\n",
        "    features_of_task2[T] = features_of_task2[T].fillna({'num_answers':0,'num_questions':0})\n",
        "    features_of_task2[T]['ans_que_ratio'] = \\\n",
        "        getAnsQuesRatio(features_of_task2[T]['num_answers'], features_of_task2[T]['num_questions'])\n",
        "    features_of_task2[T]['num_posts'] = getNumPosts(posts)"
      ],
      "execution_count": 0,
      "outputs": []
    },
    {
      "cell_type": "code",
      "metadata": {
        "colab_type": "code",
        "id": "ItDHgLi6FtEA",
        "outputId": "fc1fdba0-f42a-42c2-ea09-2093aa925d0b",
        "colab": {
          "base_uri": "https://localhost:8080/",
          "height": 860
        }
      },
      "source": [
        "# Figure 3: # Answers vs Churn probability\n",
        "#    The probability of churning for a user decreases the more answers s/he provides.\n",
        "#    It is even lower if s/he asks more questions alongside.\n",
        "\n",
        "min_num_users = 50\n",
        "for T in list_of_T:\n",
        "    task2 = features_of_task2[T]\n",
        "    for num_que_ask in range(5):\n",
        "        subgroup = task2[task2['num_questions'] == num_que_ask]\n",
        "        churn_probs = []\n",
        "        num_answers = list(set(subgroup['num_answers']))\n",
        "        num_answers.sort()\n",
        "        for num_ans in num_answers:\n",
        "            subsubgroup = subgroup[subgroup['num_answers'] == num_ans]\n",
        "            prob = sum(subsubgroup['is_churn']) / subsubgroup.shape[0]\n",
        "            if subsubgroup.shape[0] >= min_num_users:\n",
        "                churn_probs.append((num_ans, prob))\n",
        "\n",
        "        plt.plot([np.log10(x[0]+1) for x in churn_probs],\n",
        "                 [np.log10(x[1]+0.01) for x in churn_probs],\n",
        "                 marker='.',\n",
        "                 label='{} ques asked'.format(num_que_ask))\n",
        "    print(\"# Answers vs Churn probability\")\n",
        "    plt.legend()\n",
        "    plt.title(\"T={}\".format(str(T)))\n",
        "    plt.axis((0,2,-2,0))\n",
        "    plt.show()"
      ],
      "execution_count": 31,
      "outputs": [
        {
          "output_type": "stream",
          "text": [
            "# Answers vs Churn probability\n"
          ],
          "name": "stdout"
        },
        {
          "output_type": "display_data",
          "data": {
            "image/png": "[encoded data removed]",
            "text/plain": [
              "<Figure size 432x288 with 1 Axes>"
            ]
          },
          "metadata": {
            "tags": []
          }
        },
        {
          "output_type": "stream",
          "text": [
            "# Answers vs Churn probability\n"
          ],
          "name": "stdout"
        },
        {
          "output_type": "display_data",
          "data": {
            "image/png": "[encoded data removed]",
            "text/plain": [
              "<Figure size 432x288 with 1 Axes>"
            ]
          },
          "metadata": {
            "tags": []
          }
        },
        {
          "output_type": "stream",
          "text": [
            "# Answers vs Churn probability\n"
          ],
          "name": "stdout"
        },
        {
          "output_type": "display_data",
          "data": {
            "image/png": "[encoded data removed]",
            "text/plain": [
              "<Figure size 432x288 with 1 Axes>"
            ]
          },
          "metadata": {
            "tags": []
          }
        }
      ]
    },
    {
      "cell_type": "markdown",
      "metadata": {
        "colab_type": "text",
        "id": "HYDXzIXLNN58"
      },
      "source": [
        "3-3. Knowledge features"
      ]
    },
    {
      "cell_type": "code",
      "metadata": {
        "colab_type": "code",
        "id": "-W1GRvX0PRk_",
        "colab": {}
      },
      "source": [
        "# For the fast extraction, prepare questions x answers\n",
        "def preprocessForKnowledgeFeaturesForTask1(users, posts, all_posts):\n",
        "    answers = posts[posts['PostTypeId'] == 2]\n",
        "    questions = posts[posts['PostTypeId'] == 1]\n",
        "    all_answers = all_posts[all_posts['PostTypeId'] == 2]\n",
        "    all_questions = all_posts[all_posts['PostTypeId'] == 1]\n",
        "\n",
        "    qnta = all_answers.set_index('ParentId')\\\n",
        "        .join(questions, how='inner',\\\n",
        "              lsuffix='A', rsuffix='Q')\n",
        "    tqna = answers.set_index('ParentId')\\\n",
        "        .join(all_questions, how='inner',\\\n",
        "              lsuffix='A', rsuffix='Q')\n",
        "    return answers, questions, qnta, tqna"
      ],
      "execution_count": 0,
      "outputs": []
    },
    {
      "cell_type": "code",
      "metadata": {
        "colab_type": "code",
        "id": "H-D6rXdOa4ms",
        "colab": {}
      },
      "source": [
        "# For the fast extraction, prepare questions x answers\n",
        "def preprocessForKnowledgeFeaturesForTask2(users, posts):\n",
        "    answers = posts[posts['PostTypeId'] == 2]\n",
        "    questions = posts[posts['PostTypeId'] == 1]\n",
        "    qna = answers\\\n",
        "        .set_index('ParentId').join(questions, how='inner',\\\n",
        "                                    lsuffix='A', rsuffix='Q')\n",
        "    return answers, questions, qna, qna"
      ],
      "execution_count": 0,
      "outputs": []
    },
    {
      "cell_type": "code",
      "metadata": {
        "colab_type": "code",
        "id": "s7c9nOpPNLdO",
        "colab": {}
      },
      "source": [
        "# Knowledge features 1: accepted_answerer_rep\n",
        "def getRepOfAcceptedAnswerer(users, answers, questions, qnta, tqna):\n",
        "    reputations = users.loc[:, ['Reputation']]\n",
        "    rep_accepted_ans = qnta[qnta['AcceptedAnswerIdQ'] == qnta['IdA']]\\\n",
        "        .set_index('OwnerUserIdA')\\\n",
        "        .join(reputations, how='inner')\\\n",
        "        .groupby('OwnerUserIdQ')['Reputation'].mean()\n",
        "    return rep_accepted_ans\n"
      ],
      "execution_count": 0,
      "outputs": []
    },
    {
      "cell_type": "code",
      "metadata": {
        "colab_type": "code",
        "id": "oVLRFX12NPCZ",
        "colab": {}
      },
      "source": [
        "# Knowledge features 2: max_rep_answerer \n",
        "def getMaxRepAmongAnswerer(users, answers, questions, qnta, tqna):\n",
        "    reputations = users.loc[:, ['Reputation']]\n",
        "    rep_max_ans = qnta.set_index('OwnerUserIdA')\\\n",
        "        .join(reputations, how='inner')\\\n",
        "        .groupby('OwnerUserIdQ')['Reputation'].max()\n",
        "    return rep_max_ans\n"
      ],
      "execution_count": 0,
      "outputs": []
    },
    {
      "cell_type": "code",
      "metadata": {
        "colab_type": "code",
        "id": "h7F5YoZ7NQUk",
        "colab": {}
      },
      "source": [
        "# Knowledge features 3: num_que_answered\n",
        "def getNumQueAnswered(users, answers, questions, qnta, tqna):\n",
        "    # number of questions posted by the user that got answered\n",
        "    #questions = posts[posts['PostTypeId'] == 1]\n",
        "    answered_questions = questions[questions['AnswerCount'] > 0]\n",
        "    return answered_questions.groupby('OwnerUserId')['AnswerCount'].count()\n"
      ],
      "execution_count": 0,
      "outputs": []
    },
    {
      "cell_type": "code",
      "metadata": {
        "colab_type": "code",
        "id": "3vZxSTm5NRPx",
        "colab": {}
      },
      "source": [
        "# Knowledge features 4: time_for_first_ans\n",
        "def getTimeForFirstAns(users, answers, questions, qnta, tqna):\n",
        "    tmp =  qnta[qnta['CreationDateQ'] < qnta['CreationDateA']]\n",
        "    tmp['time_for_ans'] = (tmp['CreationDateA'] - tmp['CreationDateQ']).dt.total_seconds() / 60\n",
        "    questions['time_for_first_ans'] = tmp.groupby(by=tmp.index)['time_for_ans'].min()\n",
        "    return questions.groupby('OwnerUserId')['time_for_first_ans'].mean()\n"
      ],
      "execution_count": 0,
      "outputs": []
    },
    {
      "cell_type": "code",
      "metadata": {
        "colab_type": "code",
        "id": "a-tFQfJQNSe0",
        "colab": {}
      },
      "source": [
        "# Knowledge features 5: rep_questioner\n",
        "def getAvgRepOfQuestioner(users, answers, questions, qnta, tqna):\n",
        "    # Avg. reputation of the user whose question was answered\n",
        "    reputations = users.loc[:, ['Reputation']]\n",
        "    rep_accepted_ans = tqna.set_index('OwnerUserIdQ')\\\n",
        "        .join(reputations, how='inner')\\\n",
        "        .groupby('OwnerUserIdA')['Reputation'].mean()\n",
        "    return rep_accepted_ans\n"
      ],
      "execution_count": 0,
      "outputs": []
    },
    {
      "cell_type": "code",
      "metadata": {
        "colab_type": "code",
        "id": "3DfugZxXNTeC",
        "colab": {}
      },
      "source": [
        "# Knowledge features 6: rep_answerers\n",
        "def getAvgRepOfAnswerer(users, answers, questions, qnta, tqna):\n",
        "    # Avg. reputation of the users who answered the question\n",
        "    reputations = users.loc[:, ['Reputation']]\n",
        "    rep_accepted_ans = qnta.set_index('OwnerUserIdA')\\\n",
        "        .join(reputations, how='inner')\\\n",
        "        .groupby('OwnerUserIdQ')['Reputation'].mean()\n",
        "    return rep_accepted_ans\n"
      ],
      "execution_count": 0,
      "outputs": []
    },
    {
      "cell_type": "code",
      "metadata": {
        "colab_type": "code",
        "id": "9sD-x4HhNUyX",
        "colab": {}
      },
      "source": [
        "# Knowledge features 7: rep_co_answerers\n",
        "def getAvgRepOfCoAnswerer(users, answers, questions, qnta, tqna):\n",
        "    reputations = users.loc[:, ['Reputation']]    \n",
        "    rep_ans = answers.set_index('OwnerUserId')\\\n",
        "        .join(reputations, how='inner')\\\n",
        "        .set_index('ParentId')\\\n",
        "        .join(questions, how='inner', lsuffix='A', rsuffix='Q')\n",
        "    avg_rep_ans = rep_ans.groupby(by=rep_ans.index)['Reputation'].mean()\n",
        "    rep_co_answerer = answers.set_index('ParentId')\\\n",
        "        .join(avg_rep_ans, how='inner')\\\n",
        "        .set_index('OwnerUserId')\n",
        "    return rep_co_answerer.groupby(by=rep_co_answerer.index)['Reputation'].mean()\n"
      ],
      "execution_count": 0,
      "outputs": []
    },
    {
      "cell_type": "code",
      "metadata": {
        "colab_type": "code",
        "id": "YBNqrO0jNWHJ",
        "colab": {}
      },
      "source": [
        "# Knowledge features 8: num_answers_recvd\n",
        "def getAvgNumAnsReceived(users, answers, questions, qnta, tqna):\n",
        "    #questions = posts[posts['PostTypeId'] == 1]\n",
        "    return questions.fillna({'AnswerCount': 0}).groupby('OwnerUserId')['AnswerCount'].mean()\n"
      ],
      "execution_count": 0,
      "outputs": []
    },
    {
      "cell_type": "code",
      "metadata": {
        "colab_type": "code",
        "id": "BlYoLY17HvpP",
        "outputId": "0f8ad09f-3f19-464e-8b2e-d170cf373a94",
        "colab": {
          "base_uri": "https://localhost:8080/",
          "height": 581
        }
      },
      "source": [
        "# Extract knowledge features of task 1\n",
        "for K in list_of_K:\n",
        "    print(\"Extract knowledge features of task1(K=\",K,\")\")\n",
        "    users, posts = users_of_task1[K], posts_of_task1[K]\n",
        "    answers, questions, qnta, tqna = preprocessForKnowledgeFeaturesForTask1(users, posts, posts_df)\n",
        "    features_of_task1[K]['accepted_answerer_rep'] = getRepOfAcceptedAnswerer(users, answers, questions,  qnta, tqna)\n",
        "    features_of_task1[K]['max_rep_answerer'] = getMaxRepAmongAnswerer(users, answers, questions,  qnta, tqna)\n",
        "    features_of_task1[K]['num_que_answered'] = getNumQueAnswered(users, answers, questions,  qnta, tqna)\n",
        "    features_of_task1[K]['time_for_first_ans'] = getTimeForFirstAns(users, answers, questions, qnta, tqna)\n",
        "    features_of_task1[K]['rep_questioner'] = getAvgRepOfQuestioner(users, answers, questions, qnta, tqna)\n",
        "    features_of_task1[K]['rep_answerers'] = getAvgRepOfAnswerer(users, answers, questions, qnta, tqna)\n",
        "    features_of_task1[K]['rep_co_answerers'] = getAvgRepOfCoAnswerer(users, answers, questions, qnta, tqna)\n",
        "    features_of_task1[K]['num_answers_recvd'] = getAvgNumAnsReceived(users, answers, questions, qnta, tqna)"
      ],
      "execution_count": 42,
      "outputs": [
        {
          "output_type": "stream",
          "text": [
            "Extract knowledge features of task1(K= 1 )\n"
          ],
          "name": "stdout"
        },
        {
          "output_type": "stream",
          "text": [
            "/usr/local/lib/python3.6/dist-packages/ipykernel_launcher.py:3: SettingWithCopyWarning: \n",
            "A value is trying to be set on a copy of a slice from a DataFrame.\n",
            "Try using .loc[row_indexer,col_indexer] = value instead\n",
            "\n",
            "See the caveats in the documentation: http://pandas.pydata.org/pandas-docs/stable/indexing.html#indexing-view-versus-copy\n",
            "  This is separate from the ipykernel package so we can avoid doing imports until\n",
            "/usr/local/lib/python3.6/dist-packages/ipykernel_launcher.py:4: SettingWithCopyWarning: \n",
            "A value is trying to be set on a copy of a slice from a DataFrame.\n",
            "Try using .loc[row_indexer,col_indexer] = value instead\n",
            "\n",
            "See the caveats in the documentation: http://pandas.pydata.org/pandas-docs/stable/indexing.html#indexing-view-versus-copy\n",
            "  after removing the cwd from sys.path.\n"
          ],
          "name": "stderr"
        },
        {
          "output_type": "stream",
          "text": [
            "Extract knowledge features of task1(K= 2 )\n",
            "Extract knowledge features of task1(K= 3 )\n",
            "Extract knowledge features of task1(K= 4 )\n",
            "Extract knowledge features of task1(K= 5 )\n",
            "Extract knowledge features of task1(K= 6 )\n",
            "Extract knowledge features of task1(K= 7 )\n",
            "Extract knowledge features of task1(K= 8 )\n",
            "Extract knowledge features of task1(K= 9 )\n",
            "Extract knowledge features of task1(K= 10 )\n",
            "Extract knowledge features of task1(K= 11 )\n",
            "Extract knowledge features of task1(K= 12 )\n",
            "Extract knowledge features of task1(K= 13 )\n",
            "Extract knowledge features of task1(K= 14 )\n",
            "Extract knowledge features of task1(K= 15 )\n",
            "Extract knowledge features of task1(K= 16 )\n",
            "Extract knowledge features of task1(K= 17 )\n",
            "Extract knowledge features of task1(K= 18 )\n",
            "Extract knowledge features of task1(K= 19 )\n",
            "Extract knowledge features of task1(K= 20 )\n"
          ],
          "name": "stdout"
        }
      ]
    },
    {
      "cell_type": "code",
      "metadata": {
        "colab_type": "code",
        "id": "qSsmpTI_L3Gr",
        "outputId": "825e0556-bf09-4019-8d9a-73317794ae73",
        "colab": {
          "base_uri": "https://localhost:8080/",
          "height": 292
        }
      },
      "source": [
        "for T in list_of_T:\n",
        "    print(\"Extract knowledge features of task2(T=)\",T,\")\")\n",
        "    users, posts = users_of_task2[T], posts_of_task2[T]\n",
        "    answers, questions, qna, qna1 = preprocessForKnowledgeFeaturesForTask2(users, posts)\n",
        "    features_of_task2[T]['accepted_answerer_rep'] = getRepOfAcceptedAnswerer(users, answers, questions, qna, qna1)\n",
        "    features_of_task2[T]['max_rep_answerer'] = getMaxRepAmongAnswerer(users, answers, questions, qna, qna1)\n",
        "    features_of_task2[T]['num_que_answered'] = getNumQueAnswered(users, answers, questions, qna, qna1)\n",
        "    features_of_task2[T]['time_for_first_ans'] = getTimeForFirstAns(users, answers, questions, qna, qna1)\n",
        "    features_of_task2[T]['rep_questioner'] = getAvgRepOfQuestioner(users, answers, questions, qna, qna1)\n",
        "    features_of_task2[T]['rep_answerers'] = getAvgRepOfAnswerer(users, answers, questions, qna, qna1)\n",
        "    features_of_task2[T]['rep_co_answerers'] = getAvgRepOfCoAnswerer(users, answers, questions, qna, qna1)\n",
        "    features_of_task2[T]['num_answers_recvd'] = getAvgNumAnsReceived(users, answers, questions, qna, qna1)"
      ],
      "execution_count": 43,
      "outputs": [
        {
          "output_type": "stream",
          "text": [
            "Extract knowledge features of task2(T=) 7 )\n"
          ],
          "name": "stdout"
        },
        {
          "output_type": "stream",
          "text": [
            "/usr/local/lib/python3.6/dist-packages/ipykernel_launcher.py:3: SettingWithCopyWarning: \n",
            "A value is trying to be set on a copy of a slice from a DataFrame.\n",
            "Try using .loc[row_indexer,col_indexer] = value instead\n",
            "\n",
            "See the caveats in the documentation: http://pandas.pydata.org/pandas-docs/stable/indexing.html#indexing-view-versus-copy\n",
            "  This is separate from the ipykernel package so we can avoid doing imports until\n",
            "/usr/local/lib/python3.6/dist-packages/ipykernel_launcher.py:4: SettingWithCopyWarning: \n",
            "A value is trying to be set on a copy of a slice from a DataFrame.\n",
            "Try using .loc[row_indexer,col_indexer] = value instead\n",
            "\n",
            "See the caveats in the documentation: http://pandas.pydata.org/pandas-docs/stable/indexing.html#indexing-view-versus-copy\n",
            "  after removing the cwd from sys.path.\n"
          ],
          "name": "stderr"
        },
        {
          "output_type": "stream",
          "text": [
            "Extract knowledge features of task2(T=) 15 )\n",
            "Extract knowledge features of task2(T=) 30 )\n"
          ],
          "name": "stdout"
        }
      ]
    },
    {
      "cell_type": "code",
      "metadata": {
        "colab_type": "code",
        "id": "9MT48B2mVZkQ",
        "outputId": "f08e9f90-983d-4198-a90c-76b494a76338",
        "colab": {
          "base_uri": "https://localhost:8080/",
          "height": 357
        }
      },
      "source": [
        "# Figure 4: K vs Time taken for the first answer to arrive\n",
        "#  The more the time taken for a user to receive an answer, \n",
        "#  the lesser the satisfaction level and the more the chances of churning.\n",
        "churners_time = []\n",
        "stayers_time = []\n",
        "for K in list_of_K:\n",
        "    subgroup = features_of_task1[K]\n",
        "    churners = subgroup[subgroup['is_churn'] == 1][subgroup['time_for_first_ans'] > 0] \n",
        "    stayers = subgroup[subgroup['is_churn'] == 0][subgroup['time_for_first_ans'] > 0]\n",
        "    churners_time.append(churners['time_for_first_ans'].mean())\n",
        "    stayers_time.append(stayers['time_for_first_ans'].mean())\n",
        "    \n",
        "\n",
        "plt.plot(churners_time, '-o', label='churner')\n",
        "plt.plot(stayers_time, '-o', label='stayer')\n",
        "plt.legend()\n",
        "# plt.axis((0,20,8e3,22e3))\n",
        "plt.show()"
      ],
      "execution_count": 44,
      "outputs": [
        {
          "output_type": "stream",
          "text": [
            "/usr/local/lib/python3.6/dist-packages/ipykernel_launcher.py:5: UserWarning: Boolean Series key will be reindexed to match DataFrame index.\n",
            "  \"\"\"\n",
            "/usr/local/lib/python3.6/dist-packages/ipykernel_launcher.py:6: UserWarning: Boolean Series key will be reindexed to match DataFrame index.\n",
            "  \n"
          ],
          "name": "stderr"
        },
        {
          "output_type": "display_data",
          "data": {
            "image/png": "[encoded data removed]",
            "text/plain": [
              "<Figure size 432x288 with 1 Axes>"
            ]
          },
          "metadata": {
            "tags": []
          }
        }
      ]
    },
    {
      "cell_type": "markdown",
      "metadata": {
        "id": "S1BezhK6W6p_",
        "colab_type": "text"
      },
      "source": [
        "3-4. Speed features"
      ]
    },
    {
      "cell_type": "code",
      "metadata": {
        "id": "FfCFGWRXW-td",
        "colab_type": "code",
        "colab": {}
      },
      "source": [
        "# Speed features 1: answering_speed\n",
        "def getAnsweringSpeed(posts):\n",
        "    ret_df = pd.merge(\n",
        "        posts[posts['PostTypeId']==2][['OwnerUserId', 'CreationDate', 'ParentId']],\n",
        "        posts[posts['PostTypeId']==1][['CreationDate', 'Id']],\n",
        "        left_on = 'ParentId',\n",
        "        right_on = 'Id',\n",
        "        how='left',\n",
        "        suffixes=['_ans', '_ques']\n",
        "    )\n",
        "    ret_df['ans_delay'] = (ret_df['CreationDate_ans'] - ret_df['CreationDate_ques'])\n",
        "    ret_df['answering_speed'] = ret_df['ans_delay'].apply(lambda x: np.nan if pd.isnull(x) else 1/(x.total_seconds()/3600 + 1e-07))\n",
        "    return ret_df.groupby(\"OwnerUserId\")['answering_speed'].mean()"
      ],
      "execution_count": 0,
      "outputs": []
    },
    {
      "cell_type": "markdown",
      "metadata": {
        "id": "BLwYzsZVXFHr",
        "colab_type": "text"
      },
      "source": [
        "3-5. Quality features"
      ]
    },
    {
      "cell_type": "code",
      "metadata": {
        "id": "lrwqMHu6XDkT",
        "colab_type": "code",
        "colab": {}
      },
      "source": [
        "# Quality features 1: ans_score\n",
        "# Quality features 2: que_score\n",
        "def getScoreOfAnswers(posts):\n",
        "    return posts[posts['PostTypeId']==2].groupby('OwnerUserId')['Score'].mean().rename(\"ans_score\")\n",
        "\n",
        "def getScoreOfQuestions(posts):\n",
        "    return posts[posts['PostTypeId']==1].groupby('OwnerUserId')['Score'].mean().rename(\"que_score\")"
      ],
      "execution_count": 0,
      "outputs": []
    },
    {
      "cell_type": "markdown",
      "metadata": {
        "id": "MqdcB7T9XWA0",
        "colab_type": "text"
      },
      "source": [
        "3-6. Consistency features"
      ]
    },
    {
      "cell_type": "code",
      "metadata": {
        "id": "d-arXXYyXHfQ",
        "colab_type": "code",
        "colab": {}
      },
      "source": [
        "# Consistency features 1: ans_stddev\n",
        "# Consistency features 2: que_stddev\n",
        "def getStdevOfScoresOfAnswers(posts):\n",
        "    return posts[posts['PostTypeId']==2].groupby('OwnerUserId')['Score'].std().rename(\"ans_stddev\")\n",
        "\n",
        "def getStdevOfScoresOfQuestions(posts):\n",
        "    return posts[posts['PostTypeId']==1].groupby('OwnerUserId')['Score'].std().rename(\"que_stddev\")"
      ],
      "execution_count": 0,
      "outputs": []
    },
    {
      "cell_type": "markdown",
      "metadata": {
        "id": "FnA3G13UXX6t",
        "colab_type": "text"
      },
      "source": [
        "3-7. Gratitude features"
      ]
    },
    {
      "cell_type": "code",
      "metadata": {
        "id": "lfgfmahIXKle",
        "colab_type": "code",
        "colab": {}
      },
      "source": [
        "# Gratitude features 1: ans_comments\n",
        "# Gratitude features 2: que_comments\n",
        "def getAvgNumOfAnswers(posts):\n",
        "    return posts[posts['PostTypeId']==2].groupby(\"OwnerUserId\")[\"CommentCount\"].mean().rename(\"ans_comments\")\n",
        "\n",
        "def getAvgNumOfQuestions(posts):\n",
        "    return posts[posts['PostTypeId']==1].groupby(\"OwnerUserId\")[\"CommentCount\"].mean().rename(\"que_comments\")"
      ],
      "execution_count": 0,
      "outputs": []
    },
    {
      "cell_type": "markdown",
      "metadata": {
        "id": "yn2WK_2VXdYq",
        "colab_type": "text"
      },
      "source": [
        "3-8. Competitiveness features"
      ]
    },
    {
      "cell_type": "code",
      "metadata": {
        "id": "XH-SHNO_XLHG",
        "colab_type": "code",
        "colab": {}
      },
      "source": [
        "# Competitiveness features 1: relative_rank_pos\n",
        "def getRelRankPos(posts):\n",
        "    ret_df = pd.merge(\n",
        "        posts[posts['PostTypeId']==2][['OwnerUserId', 'ParentId', 'Score']],\n",
        "        posts[posts['PostTypeId']==1][['Id', 'AnswerCount']],\n",
        "        left_on='ParentId',\n",
        "        right_on='Id',\n",
        "        how='left'\n",
        "    )\n",
        "    ret_df ['Score_Rank'] = posts_df.groupby(\"ParentId\")['Score'].rank(ascending=False).apply(int)\n",
        "    \n",
        "    ret_df['relative_rank_pos'] = ret_df['AnswerCount']/ret_df['Score_Rank']\n",
        "    return ret_df.groupby('OwnerUserId')['relative_rank_pos'].mean()"
      ],
      "execution_count": 0,
      "outputs": []
    },
    {
      "cell_type": "markdown",
      "metadata": {
        "id": "rSPJ0NzJXhAp",
        "colab_type": "text"
      },
      "source": [
        "3-9. Content features"
      ]
    },
    {
      "cell_type": "code",
      "metadata": {
        "id": "OOBwNcEHXN-w",
        "colab_type": "code",
        "colab": {}
      },
      "source": [
        "# Content features 1: ans_length\n",
        "# Content features 2: que_length\n",
        "def getLengthOfAnswers(posts):\n",
        "    return posts[posts['PostTypeId']==2].groupby('OwnerUserId')['BodyWordNum'].mean().rename('ans_length')\n",
        "\n",
        "def getLengthOfQuestions(posts):\n",
        "    return posts[posts['PostTypeId']==1].groupby('OwnerUserId')['BodyWordNum'].mean().rename('que_length')"
      ],
      "execution_count": 0,
      "outputs": []
    },
    {
      "cell_type": "code",
      "metadata": {
        "id": "34ABpqR7XwoD",
        "colab_type": "code",
        "colab": {
          "base_uri": "https://localhost:8080/",
          "height": 357
        },
        "outputId": "98e32c0f-6493-4d24-d682-51dff027f95b"
      },
      "source": [
        "# Extract knowledge features of task 1\n",
        "for K in list_of_K:\n",
        "    print(\"Extract knowledge features of task1(K=\",K,\")\")\n",
        "    users, posts = users_of_task1[K], posts_of_task1[K]\n",
        "    \n",
        "    features_of_task1[K]['answering_speed'] = getAnsweringSpeed(posts)\n",
        "    features_of_task1[K]['ans_score'] = getScoreOfAnswers(posts)\n",
        "    features_of_task1[K]['que_score'] = getScoreOfQuestions(posts)\n",
        "    features_of_task1[K]['ans_stddev'] = getStdevOfScoresOfAnswers(posts)\n",
        "    features_of_task1[K]['que_stddev'] = getStdevOfScoresOfAnswers(posts)\n",
        "    features_of_task1[K]['ans_comments'] = getAvgNumOfAnswers(posts)\n",
        "    features_of_task1[K]['que_comments'] = getAvgNumOfQuestions(posts)\n",
        "    features_of_task1[K]['relative_rank_pos'] = getRelRankPos(posts)\n",
        "    features_of_task1[K]['ans_length'] = getLengthOfAnswers(posts)\n",
        "    features_of_task1[K]['que_length'] = getLengthOfQuestions(posts)"
      ],
      "execution_count": 51,
      "outputs": [
        {
          "output_type": "stream",
          "text": [
            "Extract knowledge features of task1(K= 1 )\n",
            "Extract knowledge features of task1(K= 2 )\n",
            "Extract knowledge features of task1(K= 3 )\n",
            "Extract knowledge features of task1(K= 4 )\n",
            "Extract knowledge features of task1(K= 5 )\n",
            "Extract knowledge features of task1(K= 6 )\n",
            "Extract knowledge features of task1(K= 7 )\n",
            "Extract knowledge features of task1(K= 8 )\n",
            "Extract knowledge features of task1(K= 9 )\n",
            "Extract knowledge features of task1(K= 10 )\n",
            "Extract knowledge features of task1(K= 11 )\n",
            "Extract knowledge features of task1(K= 12 )\n",
            "Extract knowledge features of task1(K= 13 )\n",
            "Extract knowledge features of task1(K= 14 )\n",
            "Extract knowledge features of task1(K= 15 )\n",
            "Extract knowledge features of task1(K= 16 )\n",
            "Extract knowledge features of task1(K= 17 )\n",
            "Extract knowledge features of task1(K= 18 )\n",
            "Extract knowledge features of task1(K= 19 )\n",
            "Extract knowledge features of task1(K= 20 )\n"
          ],
          "name": "stdout"
        }
      ]
    },
    {
      "cell_type": "code",
      "metadata": {
        "id": "_3B4wPIEXqFZ",
        "colab_type": "code",
        "colab": {
          "base_uri": "https://localhost:8080/",
          "height": 68
        },
        "outputId": "e5ee0f5b-6dcf-43d7-eec9-8379517322fb"
      },
      "source": [
        "for T in list_of_T:\n",
        "    print(\"Extract knowledge features of task2(T=)\",T,\")\")\n",
        "    users, posts = users_of_task2[T], posts_of_task2[T]\n",
        "\n",
        "    features_of_task2[T]['answering_speed'] = getAnsweringSpeed(posts)\n",
        "    features_of_task2[T]['ans_score'] = getScoreOfAnswers(posts)\n",
        "    features_of_task2[T]['que_score'] = getScoreOfQuestions(posts)\n",
        "    features_of_task2[T]['ans_stddev'] = getStdevOfScoresOfAnswers(posts)\n",
        "    features_of_task2[T]['que_stddev'] = getStdevOfScoresOfAnswers(posts)\n",
        "    features_of_task2[T]['ans_comments'] = getAvgNumOfAnswers(posts)\n",
        "    features_of_task2[T]['que_comments'] = getAvgNumOfQuestions(posts)\n",
        "    features_of_task2[T]['relative_rank_pos'] = getRelRankPos(posts)\n",
        "    features_of_task2[T]['ans_length'] = getLengthOfAnswers(posts)\n",
        "    features_of_task2[T]['que_length'] = getLengthOfQuestions(posts)"
      ],
      "execution_count": 53,
      "outputs": [
        {
          "output_type": "stream",
          "text": [
            "Extract knowledge features of task2(T=) 7 )\n",
            "Extract knowledge features of task2(T=) 15 )\n",
            "Extract knowledge features of task2(T=) 30 )\n"
          ],
          "name": "stdout"
        }
      ]
    },
    {
      "cell_type": "code",
      "metadata": {
        "id": "k49Og0bh92-y",
        "colab_type": "code",
        "colab": {
          "base_uri": "https://localhost:8080/",
          "height": 816
        },
        "outputId": "f0275164-4fce-42fe-dc13-d6255d6a906d"
      },
      "source": [
        "features_of_task1[20].count()"
      ],
      "execution_count": 56,
      "outputs": [
        {
          "output_type": "execute_result",
          "data": {
            "text/plain": [
              "Reputation               74381\n",
              "CreationDate             74381\n",
              "LastAccessDate           74381\n",
              "num_posts                74381\n",
              "is_churn                 74381\n",
              "gap1                     74381\n",
              "gap2                     74381\n",
              "gap3                     74381\n",
              "gap4                     74381\n",
              "gap5                     74381\n",
              "gap6                     74381\n",
              "gap7                     74381\n",
              "gap8                     74381\n",
              "gap9                     74381\n",
              "gap10                    74381\n",
              "gap11                    74381\n",
              "gap12                    74381\n",
              "gap13                    74381\n",
              "gap14                    74381\n",
              "gap15                    74381\n",
              "gap16                    74381\n",
              "gap17                    74381\n",
              "gap18                    74381\n",
              "gap19                    74381\n",
              "gap20                    74381\n",
              "num_answers              74381\n",
              "num_questions            74381\n",
              "ans_que_ratio            74381\n",
              "accepted_answerer_rep        0\n",
              "max_rep_answerer         46936\n",
              "num_que_answered         61419\n",
              "time_for_first_ans       40830\n",
              "rep_questioner           55057\n",
              "rep_answerers            46936\n",
              "rep_co_answerers         32141\n",
              "num_answers_recvd        61567\n",
              "answering_speed          66673\n",
              "ans_score                69805\n",
              "que_score                61567\n",
              "ans_stddev               66328\n",
              "que_stddev               66328\n",
              "ans_comments             69805\n",
              "que_comments             61567\n",
              "relative_rank_pos        66673\n",
              "ans_length               69805\n",
              "que_length               61567\n",
              "dtype: int64"
            ]
          },
          "metadata": {
            "tags": []
          },
          "execution_count": 56
        }
      ]
    },
    {
      "cell_type": "code",
      "metadata": {
        "id": "8-opjFau9gGN",
        "colab_type": "code",
        "colab": {
          "base_uri": "https://localhost:8080/",
          "height": 544
        },
        "outputId": "8bbcc7b5-ad3b-49f7-ef8d-76844c627cb5"
      },
      "source": [
        "features_of_task2[30].count()"
      ],
      "execution_count": 55,
      "outputs": [
        {
          "output_type": "execute_result",
          "data": {
            "text/plain": [
              "Reputation               471936\n",
              "CreationDate             471936\n",
              "LastAccessDate           471936\n",
              "num_posts                471936\n",
              "is_churn                 471936\n",
              "gap1                     471936\n",
              "last_gap                 471936\n",
              "time_since_last_post     471936\n",
              "mean_gap                 471936\n",
              "num_answers              471936\n",
              "num_questions            471936\n",
              "ans_que_ratio            471936\n",
              "accepted_answerer_rep         0\n",
              "max_rep_answerer          33412\n",
              "num_que_answered         328436\n",
              "time_for_first_ans        32353\n",
              "rep_questioner            26144\n",
              "rep_answerers             33412\n",
              "rep_co_answerers          26144\n",
              "num_answers_recvd        335650\n",
              "answering_speed          115722\n",
              "ans_score                212097\n",
              "que_score                335650\n",
              "ans_stddev                74635\n",
              "que_stddev                74635\n",
              "ans_comments             212097\n",
              "que_comments             335650\n",
              "relative_rank_pos        115722\n",
              "ans_length               212097\n",
              "que_length               335650\n",
              "dtype: int64"
            ]
          },
          "metadata": {
            "tags": []
          },
          "execution_count": 55
        }
      ]
    },
    {
      "cell_type": "code",
      "metadata": {
        "colab_type": "code",
        "id": "_dudtEkMMr7O",
        "colab": {
          "base_uri": "https://localhost:8080/",
          "height": 357
        },
        "outputId": "e6df244d-4d6d-459a-ef96-7f7906ab523a"
      },
      "source": [
        "# Store the whole features of task1 to Google Drive\n",
        "for K in list_of_K:\n",
        "    store_df_at_google_drive('task1_{}posts_features.csv'.format(K), features_of_task1[K])\n",
        "    #features_of_task1[K].to_pickle('task1_{}posts_important_features.pkl'.format(K))\n",
        "    #features_of_task1[K].to_csv('task1_{}posts_important_features.csv'.format(K))"
      ],
      "execution_count": 58,
      "outputs": [
        {
          "output_type": "stream",
          "text": [
            "Uploaded file with ID 1_uyZyz6MXU-f1vwuN0AyGDvMxCHO2lXG\n",
            "Uploaded file with ID 1JIJtIo4ozn4U5cqFGw9STsQ7sDu8i_jQ\n",
            "Uploaded file with ID 1j9C_JXSe3DRW4a-IOIoDACvu7Tp6T_Dv\n",
            "Uploaded file with ID 1VU1As5_DvRJq_8TmNNHPXUbToaZooByo\n",
            "Uploaded file with ID 1B7Oj7IxCmvuQzY42wtmsdoJ_GuxeInY_\n",
            "Uploaded file with ID 10LFDK34XuA_h6z6aT-NmQJDW2pFBdhHK\n",
            "Uploaded file with ID 1aNboNm_pfbj2tf0YtTYjIx2fIVqCoiiN\n",
            "Uploaded file with ID 1Ukg5sLNBHSj5b5cRKpbdvfKMaewZQf8T\n",
            "Uploaded file with ID 1qD2kFBD2rELozuiTBBHOtiyyRAa_50N0\n",
            "Uploaded file with ID 1ZaV7i8iyk0hkwXvl2Du_GF9fiDnaliV0\n",
            "Uploaded file with ID 1wRKKpVZvy9AwJnCNlcV5YXIbany2vXKw\n",
            "Uploaded file with ID 1jSrlbRNY1xGr5gnTA5-C9t3d_u04OCan\n",
            "Uploaded file with ID 1DidgFTuRT-BBgH-S8QSgv57yPGw673gi\n",
            "Uploaded file with ID 1WgAMmYGfKBrko3U1iXoJdF67fvNvm3Bp\n",
            "Uploaded file with ID 10tDTnui9AOQn_f5vlo9qB9WBKbfbdyV5\n",
            "Uploaded file with ID 1A8GYnyKEcc-qvzTM4yl6Pv9vuFoCVZrg\n",
            "Uploaded file with ID 14rs7krf53QwG5xBhQL9vHSONXIixCAdG\n",
            "Uploaded file with ID 1_o0-0LP9_6M97v8T1XZrzxSv5jpbn9p9\n",
            "Uploaded file with ID 1caRR35tEo8qJ_JM55bRcTTsvHty7rpwg\n",
            "Uploaded file with ID 1_GaZb8YOLnsRmsflg7PtNXPy2DFc1gVv\n"
          ],
          "name": "stdout"
        }
      ]
    },
    {
      "cell_type": "code",
      "metadata": {
        "colab_type": "code",
        "id": "Kh4gc3g0NDI-",
        "colab": {
          "base_uri": "https://localhost:8080/",
          "height": 68
        },
        "outputId": "20dfae6b-2fcf-47eb-8edb-378a3bd19382"
      },
      "source": [
        "for T in list_of_T:\n",
        "    store_df_at_google_drive('task2_{}posts_features.csv'.format(T), features_of_task2[T])\n",
        "    #features_of_task2[T].to_pickle('task2_{}days_important_features.pkl'.format(T))\n",
        "    #features_of_task2[T].to_csv('task2_{}days_important_features.csv'.format(T))"
      ],
      "execution_count": 59,
      "outputs": [
        {
          "output_type": "stream",
          "text": [
            "Uploaded file with ID 1f7VlxrDsxkVfeFhsYqKEKjffHj2CRhBi\n",
            "Uploaded file with ID 1mVmao5f0JsfN3zPzEUC01QkNGk2xmAHl\n",
            "Uploaded file with ID 1AjAWlI11QTvgZMtKd8teCc17r60qOp6v\n"
          ],
          "name": "stdout"
        }
      ]
    },
    {
      "cell_type": "markdown",
      "metadata": {
        "colab_type": "text",
        "id": "Fhh-YaDUas2l"
      },
      "source": [
        "5. Train models for each tasks with the features\n",
        "\n",
        "    1. Decision Tree\n",
        "    2. SVM (Linear)\n",
        "    3. SVM (RBF)\n",
        "    4. Logistic Regression"
      ]
    },
    {
      "cell_type": "code",
      "metadata": {
        "colab_type": "code",
        "id": "CR4RcZp8dZFe",
        "colab": {}
      },
      "source": [
        "def fill_nan(features):\n",
        "    if 'time_for_first_ans' in features.columns and np.isnan(features['time_for_first_ans']).sum(0):\n",
        "        features['time_for_first_ans'] = 1 / features['time_for_first_ans']\n",
        "        features['time_for_first_ans'] = features['time_for_first_ans'].replace([np.nan], 0)\n",
        "    fill_constants = {\n",
        "        'accepted_answerer_rep': 0,\n",
        "        'max_rep_answerer': 0,\n",
        "        'num_que_answered': 0, \n",
        "        'rep_questioner': 0,\n",
        "        'rep_answerers': 0,\n",
        "        'rep_co_answerers': 0,\n",
        "        'num_answers_recvd': 0,\n",
        "        'answering_speed' : 0,\n",
        "        'ans_score' : 0,\n",
        "        'que_score' : 0,\n",
        "        'ans_stddev' : 0,\n",
        "        'que_stddev' : 0,\n",
        "        'ans_comments' : 0,\n",
        "        'que_comments' : 0,\n",
        "        'relative_rank_pos' : 0,\n",
        "        'ans_length' : 0,\n",
        "        'que_length' : 0\n",
        "    }\n",
        "    return features.fillna(fill_constants)\n",
        "                                                                         "
      ],
      "execution_count": 0,
      "outputs": []
    },
    {
      "cell_type": "code",
      "metadata": {
        "id": "NBful7LcAPxJ",
        "colab_type": "code",
        "colab": {}
      },
      "source": [
        "#Under Sampling\n",
        "def under_samping(features):\n",
        "    nChurn = len(features[features['is_churn']==1])\n",
        "    nStay = len(features[features['is_churn']==0])\n",
        "    \n",
        "    minN = min(nChurn, nStay)\n",
        "    if nChurn > minN:\n",
        "        churnIndex = np.random.choice(nChurn, minN, replace=False)\n",
        "    else:\n",
        "        churnIndex = np.arange(minN)\n",
        "        \n",
        "    if nStay > minN:\n",
        "        stayIndex = np.random.choice(nStay, minN, replace=False)\n",
        "    else:\n",
        "        stayIndex = np.arange(minN)\n",
        "\n",
        "    return pd.concat([\n",
        "        (features[features['is_churn']==1].reset_index()).loc[churnIndex],\n",
        "        (features[features['is_churn']==0].reset_index()).loc[stayIndex]\n",
        "    ]).reset_index(drop=True)"
      ],
      "execution_count": 0,
      "outputs": []
    },
    {
      "cell_type": "code",
      "metadata": {
        "colab_type": "code",
        "id": "b0d6jNmw2ipN",
        "colab": {
          "base_uri": "https://localhost:8080/",
          "height": 357
        },
        "outputId": "a4326f37-d12f-4615-e831-178bf103fea4"
      },
      "source": [
        "for K in list_of_K:\n",
        "    print(\"Fill NaN of task1(K=\",K,\")\")\n",
        "    features_of_task1[K] = under_samping(fill_nan(features_of_task1[K]))\n"
      ],
      "execution_count": 62,
      "outputs": [
        {
          "output_type": "stream",
          "text": [
            "Fill NaN of task1(K= 1 )\n",
            "Fill NaN of task1(K= 2 )\n",
            "Fill NaN of task1(K= 3 )\n",
            "Fill NaN of task1(K= 4 )\n",
            "Fill NaN of task1(K= 5 )\n",
            "Fill NaN of task1(K= 6 )\n",
            "Fill NaN of task1(K= 7 )\n",
            "Fill NaN of task1(K= 8 )\n",
            "Fill NaN of task1(K= 9 )\n",
            "Fill NaN of task1(K= 10 )\n",
            "Fill NaN of task1(K= 11 )\n",
            "Fill NaN of task1(K= 12 )\n",
            "Fill NaN of task1(K= 13 )\n",
            "Fill NaN of task1(K= 14 )\n",
            "Fill NaN of task1(K= 15 )\n",
            "Fill NaN of task1(K= 16 )\n",
            "Fill NaN of task1(K= 17 )\n",
            "Fill NaN of task1(K= 18 )\n",
            "Fill NaN of task1(K= 19 )\n",
            "Fill NaN of task1(K= 20 )\n"
          ],
          "name": "stdout"
        }
      ]
    },
    {
      "cell_type": "code",
      "metadata": {
        "colab_type": "code",
        "id": "ObxxJXT32irv",
        "colab": {
          "base_uri": "https://localhost:8080/",
          "height": 68
        },
        "outputId": "4e329804-07de-43f1-9005-68d4b427bf6c"
      },
      "source": [
        "for T in list_of_T:\n",
        "    print(\"Fill NaN of task2(T=)\",T,\")\")\n",
        "    features_of_task2[T] = under_samping(fill_nan(features_of_task2[T]))\n"
      ],
      "execution_count": 63,
      "outputs": [
        {
          "output_type": "stream",
          "text": [
            "Fill NaN of task2(T=) 7 )\n",
            "Fill NaN of task2(T=) 15 )\n",
            "Fill NaN of task2(T=) 30 )\n"
          ],
          "name": "stdout"
        }
      ]
    },
    {
      "cell_type": "code",
      "metadata": {
        "id": "XVjoG6xZCTN6",
        "colab_type": "code",
        "colab": {}
      },
      "source": [
        "# Prerequisite for using thundersvm,\n",
        "\n",
        "# CUDA 버전을 9.0으로 맞춰 줍니다.\n",
        "\n",
        "!wget https://developer.nvidia.com/compute/cuda/9.0/Prod/local_installers/cuda-repo-ubuntu1604-9-0-local_9.0.176-1_amd64-deb\n",
        "!dpkg -i cuda-repo-ubuntu1604-9-0-local_9.0.176-1_amd64-deb\n",
        "!apt-key add /var/cuda-repo-9-0-local/7fa2af80.pub\n",
        "!apt-get update\n",
        "!apt-get install cuda=9.0.176-1"
      ],
      "execution_count": 0,
      "outputs": []
    },
    {
      "cell_type": "code",
      "metadata": {
        "id": "gnPY6WjyFH7_",
        "colab_type": "code",
        "colab": {
          "base_uri": "https://localhost:8080/",
          "height": 85
        },
        "outputId": "a9be55b9-cdb4-4bed-c6bf-acf120ccd422"
      },
      "source": [
        "# Confirm that CUDA version is 9.0\n",
        "!nvcc --version"
      ],
      "execution_count": 69,
      "outputs": [
        {
          "output_type": "stream",
          "text": [
            "nvcc: NVIDIA (R) Cuda compiler driver\n",
            "Copyright (c) 2005-2017 NVIDIA Corporation\n",
            "Built on Fri_Sep__1_21:08:03_CDT_2017\n",
            "Cuda compilation tools, release 9.0, V9.0.176\n"
          ],
          "name": "stdout"
        }
      ]
    },
    {
      "cell_type": "code",
      "metadata": {
        "id": "QUjG3z2SFK4t",
        "colab_type": "code",
        "colab": {
          "base_uri": "https://localhost:8080/",
          "height": 190
        },
        "outputId": "944bb9f7-db38-41b3-9f21-cbc8ff5a15bf"
      },
      "source": [
        "# Install thundersvm module\n",
        "!pip3 install thundersvm"
      ],
      "execution_count": 70,
      "outputs": [
        {
          "output_type": "stream",
          "text": [
            "Collecting thundersvm\n",
            "\u001b[?25l  Downloading https://files.pythonhosted.org/packages/21/05/559e34744a8939c2dc70ddf05df426f79ca9bceae7404e6c677db7b9b982/thundersvm-0.3.3-py3-none-any.whl (500kB)\n",
            "\r\u001b[K     |▋                               | 10kB 14.7MB/s eta 0:00:01\r\u001b[K     |█▎                              | 20kB 1.7MB/s eta 0:00:01\r\u001b[K     |██                              | 30kB 2.5MB/s eta 0:00:01\r\u001b[K     |██▋                             | 40kB 1.6MB/s eta 0:00:01\r\u001b[K     |███▎                            | 51kB 2.0MB/s eta 0:00:01\r\u001b[K     |████                            | 61kB 2.4MB/s eta 0:00:01\r\u001b[K     |████▋                           | 71kB 2.8MB/s eta 0:00:01\r\u001b[K     |█████▎                          | 81kB 3.2MB/s eta 0:00:01\r\u001b[K     |█████▉                          | 92kB 3.5MB/s eta 0:00:01\r\u001b[K     |██████▌                         | 102kB 2.7MB/s eta 0:00:01\r\u001b[K     |███████▏                        | 112kB 2.7MB/s eta 0:00:01\r\u001b[K     |███████▉                        | 122kB 2.7MB/s eta 0:00:01\r\u001b[K     |████████▌                       | 133kB 2.7MB/s eta 0:00:01\r\u001b[K     |█████████▏                      | 143kB 2.7MB/s eta 0:00:01\r\u001b[K     |█████████▉                      | 153kB 2.7MB/s eta 0:00:01\r\u001b[K     |██████████▌                     | 163kB 2.7MB/s eta 0:00:01\r\u001b[K     |███████████▏                    | 174kB 2.7MB/s eta 0:00:01\r\u001b[K     |███████████▊                    | 184kB 2.7MB/s eta 0:00:01\r\u001b[K     |████████████▍                   | 194kB 2.7MB/s eta 0:00:01\r\u001b[K     |█████████████                   | 204kB 2.7MB/s eta 0:00:01\r\u001b[K     |█████████████▊                  | 215kB 2.7MB/s eta 0:00:01\r\u001b[K     |██████████████▍                 | 225kB 2.7MB/s eta 0:00:01\r\u001b[K     |███████████████                 | 235kB 2.7MB/s eta 0:00:01\r\u001b[K     |███████████████▊                | 245kB 2.7MB/s eta 0:00:01\r\u001b[K     |████████████████▍               | 256kB 2.7MB/s eta 0:00:01\r\u001b[K     |█████████████████               | 266kB 2.7MB/s eta 0:00:01\r\u001b[K     |█████████████████▋              | 276kB 2.7MB/s eta 0:00:01\r\u001b[K     |██████████████████▎             | 286kB 2.7MB/s eta 0:00:01\r\u001b[K     |███████████████████             | 296kB 2.7MB/s eta 0:00:01\r\u001b[K     |███████████████████▋            | 307kB 2.7MB/s eta 0:00:01\r\u001b[K     |████████████████████▎           | 317kB 2.7MB/s eta 0:00:01\r\u001b[K     |█████████████████████           | 327kB 2.7MB/s eta 0:00:01\r\u001b[K     |█████████████████████▋          | 337kB 2.7MB/s eta 0:00:01\r\u001b[K     |██████████████████████▎         | 348kB 2.7MB/s eta 0:00:01\r\u001b[K     |███████████████████████         | 358kB 2.7MB/s eta 0:00:01\r\u001b[K     |███████████████████████▌        | 368kB 2.7MB/s eta 0:00:01\r\u001b[K     |████████████████████████▏       | 378kB 2.7MB/s eta 0:00:01\r\u001b[K     |████████████████████████▉       | 389kB 2.7MB/s eta 0:00:01\r\u001b[K     |█████████████████████████▌      | 399kB 2.7MB/s eta 0:00:01\r\u001b[K     |██████████████████████████▏     | 409kB 2.7MB/s eta 0:00:01\r\u001b[K     |██████████████████████████▉     | 419kB 2.7MB/s eta 0:00:01\r\u001b[K     |███████████████████████████▌    | 430kB 2.7MB/s eta 0:00:01\r\u001b[K     |████████████████████████████▏   | 440kB 2.7MB/s eta 0:00:01\r\u001b[K     |████████████████████████████▉   | 450kB 2.7MB/s eta 0:00:01\r\u001b[K     |█████████████████████████████▍  | 460kB 2.7MB/s eta 0:00:01\r\u001b[K     |██████████████████████████████  | 471kB 2.7MB/s eta 0:00:01\r\u001b[K     |██████████████████████████████▊ | 481kB 2.7MB/s eta 0:00:01\r\u001b[K     |███████████████████████████████▍| 491kB 2.7MB/s eta 0:00:01\r\u001b[K     |████████████████████████████████| 501kB 2.7MB/s \n",
            "\u001b[?25hRequirement already satisfied: scikit-learn in /usr/local/lib/python3.6/dist-packages (from thundersvm) (0.21.3)\n",
            "Requirement already satisfied: numpy in /usr/local/lib/python3.6/dist-packages (from thundersvm) (1.16.5)\n",
            "Requirement already satisfied: scipy in /usr/local/lib/python3.6/dist-packages (from thundersvm) (1.3.1)\n",
            "Requirement already satisfied: joblib>=0.11 in /usr/local/lib/python3.6/dist-packages (from scikit-learn->thundersvm) (0.14.0)\n",
            "Installing collected packages: thundersvm\n",
            "Successfully installed thundersvm-0.3.3\n"
          ],
          "name": "stdout"
        }
      ]
    },
    {
      "cell_type": "code",
      "metadata": {
        "id": "PY7ob1GYFMnA",
        "colab_type": "code",
        "colab": {
          "base_uri": "https://localhost:8080/",
          "height": 224
        },
        "outputId": "2c1785a3-a516-455d-dade-6256067bdb31"
      },
      "source": [
        "# Installation for comparison / visualization\n",
        "!pip3 install numpy matplotlib scikit-learn"
      ],
      "execution_count": 71,
      "outputs": [
        {
          "output_type": "stream",
          "text": [
            "Requirement already satisfied: numpy in /usr/local/lib/python3.6/dist-packages (1.16.5)\n",
            "Requirement already satisfied: matplotlib in /usr/local/lib/python3.6/dist-packages (3.0.3)\n",
            "Requirement already satisfied: scikit-learn in /usr/local/lib/python3.6/dist-packages (0.21.3)\n",
            "Requirement already satisfied: kiwisolver>=1.0.1 in /usr/local/lib/python3.6/dist-packages (from matplotlib) (1.1.0)\n",
            "Requirement already satisfied: cycler>=0.10 in /usr/local/lib/python3.6/dist-packages (from matplotlib) (0.10.0)\n",
            "Requirement already satisfied: python-dateutil>=2.1 in /usr/local/lib/python3.6/dist-packages (from matplotlib) (2.5.3)\n",
            "Requirement already satisfied: pyparsing!=2.0.4,!=2.1.2,!=2.1.6,>=2.0.1 in /usr/local/lib/python3.6/dist-packages (from matplotlib) (2.4.2)\n",
            "Requirement already satisfied: scipy>=0.17.0 in /usr/local/lib/python3.6/dist-packages (from scikit-learn) (1.3.1)\n",
            "Requirement already satisfied: joblib>=0.11 in /usr/local/lib/python3.6/dist-packages (from scikit-learn) (0.14.0)\n",
            "Requirement already satisfied: setuptools in /usr/local/lib/python3.6/dist-packages (from kiwisolver>=1.0.1->matplotlib) (41.2.0)\n",
            "Requirement already satisfied: six in /usr/local/lib/python3.6/dist-packages (from cycler>=0.10->matplotlib) (1.12.0)\n"
          ],
          "name": "stdout"
        }
      ]
    },
    {
      "cell_type": "code",
      "metadata": {
        "id": "RoMT2dPCFRqt",
        "colab_type": "code",
        "colab": {}
      },
      "source": [
        "import numpy as np\n",
        "import matplotlib.pyplot as plt\n",
        "from scipy import stats\n",
        "\n",
        "# use seaborn plotting defaults\n",
        "import seaborn as sns; sns.set()\n",
        "from sklearn.datasets.samples_generator import make_blobs\n",
        "X, y = make_blobs(n_samples=30000, centers=2,\n",
        "                  random_state=0, cluster_std=0.60)"
      ],
      "execution_count": 0,
      "outputs": []
    },
    {
      "cell_type": "code",
      "metadata": {
        "id": "85VcoT6UFSO9",
        "colab_type": "code",
        "colab": {}
      },
      "source": [
        "# Visualization function\n",
        "def plot_svc_decision_function(model, ax=None, plot_support=True):\n",
        "    \"\"\"Plot the decision function for a 2D SVC\"\"\"\n",
        "    if ax is None:\n",
        "        ax = plt.gca()\n",
        "    xlim = ax.get_xlim()\n",
        "    ylim = ax.get_ylim()\n",
        "\n",
        "    # create grid to evaluate model\n",
        "    x = np.linspace(xlim[0], xlim[1], 30)\n",
        "    y = np.linspace(ylim[0], ylim[1], 30)\n",
        "    Y, X = np.meshgrid(y, x)\n",
        "    xy = np.vstack([X.ravel(), Y.ravel()]).T\n",
        "    P = model.decision_function(xy).reshape(X.shape)\n",
        "\n",
        "    # plot decision boundary and margins\n",
        "    ax.contour(X, Y, P, colors='k',\n",
        "       levels=[-1, 0, 1], alpha=0.5,\n",
        "       linestyles=['--', '-', '--'])\n",
        "\n",
        "    # plot support vectors\n",
        "    if plot_support:\n",
        "        ax.scatter(model.support_vectors_[:, 0],\n",
        "           model.support_vectors_[:, 1],\n",
        "           s=300, linewidth=1, facecolors='none');\n",
        "        ax.set_xlim(xlim)\n",
        "        ax.set_ylim(ylim)"
      ],
      "execution_count": 0,
      "outputs": []
    },
    {
      "cell_type": "code",
      "metadata": {
        "id": "c47ITISzFUko",
        "colab_type": "code",
        "colab": {
          "base_uri": "https://localhost:8080/",
          "height": 345
        },
        "outputId": "b48b030e-f0df-4232-d4d9-e4ce35fe75fe"
      },
      "source": [
        "# Performance of SVM in Scikit-learn\n",
        "from sklearn.svm import SVC # \\\"Support vector classifier\\\"\n",
        "from time import time\n",
        "start_time = time()\n",
        "model = SVC()\n",
        "model.fit(X, y)\n",
        "print(\"elapsed: {}\".format(time() - start_time))\n",
        "plt.scatter(X[:, 0], X[:, 1], c=y, s=50, cmap='autumn')\n",
        "plot_svc_decision_function(model);"
      ],
      "execution_count": 74,
      "outputs": [
        {
          "output_type": "stream",
          "text": [
            "/usr/local/lib/python3.6/dist-packages/sklearn/svm/base.py:193: FutureWarning: The default value of gamma will change from 'auto' to 'scale' in version 0.22 to account better for unscaled features. Set gamma explicitly to 'auto' or 'scale' to avoid this warning.\n",
            "  \"avoid this warning.\", FutureWarning)\n"
          ],
          "name": "stderr"
        },
        {
          "output_type": "stream",
          "text": [
            "elapsed: 15.603474617004395\n"
          ],
          "name": "stdout"
        },
        {
          "output_type": "display_data",
          "data": {
            "image/png": "[encoded data removed]",
            "text/plain": [
              "<Figure size 432x288 with 1 Axes>"
            ]
          },
          "metadata": {
            "tags": []
          }
        }
      ]
    },
    {
      "cell_type": "code",
      "metadata": {
        "id": "gdK9enEuF15j",
        "colab_type": "code",
        "colab": {}
      },
      "source": [
        "from thundersvm import SVC\n",
        "from time import time\n",
        "start_time = time()\n",
        "model = SVC()\n",
        "model.fit(X, y)\n",
        "print(\"elapsed: {}\".format(time() - start_time))\n",
        "plt.scatter(X[:, 0], X[:, 1], c=y, s=50, cmap='autumn')\n",
        "plot_svc_decision_function(model);"
      ],
      "execution_count": 0,
      "outputs": []
    },
    {
      "cell_type": "code",
      "metadata": {
        "id": "vZjkUHk0F0Hv",
        "colab_type": "code",
        "colab": {}
      },
      "source": [
        ""
      ],
      "execution_count": 0,
      "outputs": []
    },
    {
      "cell_type": "code",
      "metadata": {
        "id": "9ySDJoRrFVCb",
        "colab_type": "code",
        "colab": {}
      },
      "source": [
        ""
      ],
      "execution_count": 0,
      "outputs": []
    },
    {
      "cell_type": "code",
      "metadata": {
        "colab_type": "code",
        "id": "zZM9rDE9WO7e",
        "colab": {}
      },
      "source": [
        "from sklearn.tree import DecisionTreeClassifier\n",
        "from sklearn.svm import SVC\n",
        "from sklearn.svm import LinearSVC\n",
        "from sklearn.linear_model import LogisticRegression\n",
        "from sklearn.model_selection import KFold\n",
        "\n",
        "import warnings\n",
        "warnings.filterwarnings(\"ignore\", category=DeprecationWarning)\n",
        "\n",
        "seed = 1234\n",
        "np.random.seed(seed)\n",
        "\n",
        "def LogisticRegression_(*arg, **kwarg):\n",
        "    kwarg['max_iter'] = 1e3\n",
        "    kwarg['solver'] = 'saga'\n",
        "    kwarg['n_jobs'] = 8\n",
        "    return LogisticRegression(*arg, **kwarg)\n",
        "\n",
        "  "
      ],
      "execution_count": 0,
      "outputs": []
    },
    {
      "cell_type": "code",
      "metadata": {
        "colab_type": "code",
        "id": "pmEBV3SA9fg6",
        "colab": {}
      },
      "source": [
        "def learn_model(data, train_features, target='is_churn', model=DecisionTreeClassifier, seed=seed):\n",
        "    X = data[train_features]\n",
        "    y = data[target]\n",
        "    print(model.__name__)\n",
        "        \n",
        "    ### 10-fold cross validation ###\n",
        "    acc_list = []\n",
        "    kf = KFold(n_splits=10, shuffle=True, random_state=seed)\n",
        "    for train_index, test_index in kf.split(X):\n",
        "        X_train, X_test = X.iloc[train_index], X.iloc[test_index]\n",
        "        y_train, y_test = y.iloc[train_index], y.iloc[test_index]\n",
        "\n",
        "        ### Under-sampling ###\n",
        "        churners = y_train[y_train == 1].index\n",
        "        stayers = y_train[y_train == 0].index\n",
        "        n_churn = len(churners)\n",
        "        n_stay = len(stayers)\n",
        "        if n_churn > n_stay:\n",
        "            churners = np.random.choice(churners, n_stay, replace=False)\n",
        "        else:\n",
        "            stayers = np.random.choice(stayers, n_churn, replace=False)\n",
        "        train_index = np.array(list(churners) + list(stayers))\n",
        "        X_train, y_train = X.reindex(train_index), y.reindex(train_index)\n",
        "\n",
        "        ### Learn Model ###\n",
        "        mdl = model().fit(X_train, y_train)\n",
        "        pred = mdl.predict(X_test)\n",
        "        acc = (pred == y_test)\n",
        "        acc_list.append(sum(acc)*100/len(acc))\n",
        "    return acc_list"
      ],
      "execution_count": 0,
      "outputs": []
    },
    {
      "cell_type": "code",
      "metadata": {
        "colab_type": "code",
        "id": "QjrE1aqQWO9t",
        "colab": {}
      },
      "source": [
        "# Table 2: Performance on Task 1\n",
        "\n",
        "drop_user_columns = ['Reputation', 'CreationDate', 'LastAccessDate', 'num_posts']\n",
        "\n",
        "# model = LogisticRegression_\n",
        "model = DecisionTreeClassifier\n",
        "\n",
        "for K in list_of_K:\n",
        "    print('Task 1, K={}'.format(K))\n",
        "    train_features = [col for col in features_of_task1[K].columns \n",
        "                      if col not in drop_user_columns + ['is_churn']]\n",
        "\n",
        "    acc_list = learn_model(features_of_task1[K], train_features, model=model)\n",
        "    print('Accuracy: {}'.format(np.mean(acc_list)))\n",
        "    print('    for each folds: {}'.format(acc_list))\n"
      ],
      "execution_count": 0,
      "outputs": []
    },
    {
      "cell_type": "code",
      "metadata": {
        "colab_type": "code",
        "id": "ZgmKMwToWO_v",
        "colab": {}
      },
      "source": [
        "# Table 3: Performance on Task 2\n",
        "\n",
        "drop_user_columns = ['Reputation', 'CreationDate', 'LastAccessDate']\n",
        "\n",
        "# model = LogisticRegression_\n",
        "model = DecisionTreeClassifier\n",
        "\n",
        "for T in list_of_T:\n",
        "    print('Task 2, T={}'.format(T))\n",
        "    train_features = [col for col in features_of_task2[T].columns \n",
        "                      if col not in drop_user_columns + ['is_churn']]\n",
        "\n",
        "    acc_list = learn_model(features_of_task2[T], train_features, model=model)\n",
        "    print('Accuracy: {}'.format(np.mean(acc_list)))\n",
        "    print('    for each folds: {}'.format(acc_list))\n"
      ],
      "execution_count": 0,
      "outputs": []
    },
    {
      "cell_type": "code",
      "metadata": {
        "colab_type": "code",
        "id": "tFM2c6IXaGGu",
        "colab": {}
      },
      "source": [
        "# Figure 5: Churn prediction accuracy when features from each category are used in isolation\n",
        "\n",
        "temporal_features = ['gap1', 'last_gap', 'time_since_last_post', 'mean_gap']\n",
        "frequency_features = ['num_answers', 'num_questions',\n",
        "                      'ans_que_ratio', 'num_posts']\n",
        "speed_features = ['answering_speed']\n",
        "quality_features = ['ans_score', 'que_score']\n",
        "consistency_features = ['ans_stddev', 'que_stddev']\n",
        "gratitude_features = ['ans_comments', 'que_comments']\n",
        "competitiveness_features = ['relative_rank_pos']\n",
        "content_features = ['ans_length', 'que_length']\n",
        "knowledge_features = ['accepted_answerer_rep', 'max_rep_answerer',\n",
        "                      'num_que_answered', 'time_for_first_ans',\n",
        "                      'rep_questioner', 'rep_answerers',\n",
        "                      'rep_co_answerers', 'num_answers_recvd']\n",
        "\n",
        "analysis_feature_names = {\n",
        "    'temporal': temporal_features,\n",
        "    'frequency': frequency_features,\n",
        "    'speed': speed_features,\n",
        "    'quality': quality_features,\n",
        "    'consistency': consistency_features,\n",
        "    'gratitude': gratitude_features,\n",
        "    'competitiveness': competitiveness_features,\n",
        "    'content': content_features,\n",
        "    'knowledge': knowledge_features,\n",
        "}"
      ],
      "execution_count": 0,
      "outputs": []
    },
    {
      "cell_type": "code",
      "metadata": {
        "colab_type": "code",
        "id": "ef5ac_2R1rPj",
        "colab": {}
      },
      "source": [
        "task1_accuracy_of_category = {}\n",
        "for name, feature_list in analysis_feature_names.items():\n",
        "    accuracy_of_category = []\n",
        "    for K in list_of_K:\n",
        "        if name == 'temoral':\n",
        "            feature_list = ['gap{}'.format(j) for j in range(1, K+1)]\n",
        "        elif name == 'frequency':\n",
        "            features_list = [feat for feat in feature_list if feat != 'num_posts']\n",
        "        train_features = [feat for feat in feature_list if feat in features_of_task1[K].columns]\n",
        "        if len(train_features) == 0:\n",
        "            continue\n",
        "        print('\\n{}, Task 1, K={}'.format(name, K))\n",
        "        print('    columns: {}'.format(train_features))\n",
        "\n",
        "        acc_list = learn_model(features_of_task1[K], train_features)\n",
        "        mean_acc = np.mean(acc_list)\n",
        "        accuracy_of_category.append(mean_acc)\n",
        "        print('Accuracy: {}'.format(mean_acc))\n",
        "        print('    for each folds: {}'.format(acc_list))\n",
        "\n",
        "    task1_accuracy_of_category[name] = accuracy_of_category"
      ],
      "execution_count": 0,
      "outputs": []
    },
    {
      "cell_type": "code",
      "metadata": {
        "colab_type": "code",
        "id": "ke9xkcjC9C3g",
        "colab": {}
      },
      "source": [
        "# Bar Chart\n",
        "for title, predictions in task1_accuracy_of_category.items():\n",
        "    if len(predictions) == 0:\n",
        "        continue\n",
        "    n_groups = len(list_of_K)\n",
        "    index = np.arange(n_groups)\n",
        "\n",
        "    plt.bar(index, predictions, tick_label=list_of_K, align='center')\n",
        "\n",
        "    plt.title(title)\n",
        "    plt.xlim(-1, n_groups)\n",
        "    plt.ylim(40, 100)\n",
        "    plt.show()\n"
      ],
      "execution_count": 0,
      "outputs": []
    },
    {
      "cell_type": "code",
      "metadata": {
        "colab_type": "code",
        "id": "TU8JkA8k1t28",
        "colab": {}
      },
      "source": [
        "### Category Analysis - Task 2 ###\n",
        "task2_accuracy_of_category = {}\n",
        "for name, feature_list in analysis_feature_names.items():\n",
        "    accuracy_of_category = []\n",
        "    for T in list_of_T:\n",
        "        train_features = [feat for feat in feature_list if feat in features_of_task2[T].columns]\n",
        "        if len(train_features) == 0:\n",
        "            continue\n",
        "        print('\\n{}, Task 2, T={}'.format(name, T))\n",
        "        print('    columns: {}'.format(train_features))\n",
        "\n",
        "        acc_list = learn_model(features_of_task2[T], train_features)\n",
        "        mean_acc = np.mean(acc_list)\n",
        "        accuracy_of_category.append(mean_acc)\n",
        "        print('Accuracy: {}'.format(mean_acc))\n",
        "        print('    for each folds: {}'.format(acc_list))\n",
        "\n",
        "    task2_accuracy_of_category[name] = accuracy_of_category"
      ],
      "execution_count": 0,
      "outputs": []
    },
    {
      "cell_type": "code",
      "metadata": {
        "colab_type": "code",
        "id": "r_4qFfOF1uHn",
        "colab": {}
      },
      "source": [
        "# Bar Chart\n",
        "for title, predictions in task2_accuracy_of_category.items():\n",
        "    if len(predictions) == 0:\n",
        "        continue\n",
        "    n_groups = len(list_of_T)\n",
        "    index = np.arange(n_groups)\n",
        "\n",
        "    plt.bar(index, predictions, tick_label=list_of_T, align='center')\n",
        "\n",
        "    plt.title(title)\n",
        "    plt.xlim(-1, n_groups)\n",
        "    plt.ylim(50, 80)\n",
        "    plt.show()\n"
      ],
      "execution_count": 0,
      "outputs": []
    },
    {
      "cell_type": "code",
      "metadata": {
        "colab_type": "code",
        "id": "0lkszL557Csg",
        "colab": {}
      },
      "source": [
        "### Temporal Feature Analysis - Task 1 ###\n",
        "temporal_analysis_feature_func = {\n",
        "    'gapK': lambda K: ['gap{}'.format(j) for j in range(1, K+1)],\n",
        "    'last_gap': lambda K: ['gap{}'.format(K)]\n",
        "}\n",
        "\n",
        "\n",
        "task1_accuracy_with_time_gap = {}\n",
        "for K in list_of_K:\n",
        "    accuracy_with_time_gap = []\n",
        "    for name, feature_func in temporal_analysis_feature_func.items():\n",
        "        train_features = [feat for feat in feature_list if feat in features_of_task1[K].columns]\n",
        "        if len(train_features) == 0:\n",
        "            continue\n",
        "        print('\\n{}, Task 1, K={}'.format(name, K))\n",
        "        print('    columns: {}'.format(train_features))\n",
        "\n",
        "        acc_list = learn_model(features_of_task1[K], train_features)\n",
        "        mean_acc = np.mean(acc_list)\n",
        "        accuracy_with_time_gap.append(mean_acc)\n",
        "        print('Accuracy: {}'.format(mean_acc))\n",
        "        print('    for each folds: {}'.format(acc_list))\n",
        "\n",
        "    task1_accuracy_with_time_gap[K] = accuracy_with_time_gap"
      ],
      "execution_count": 0,
      "outputs": []
    },
    {
      "cell_type": "code",
      "metadata": {
        "colab_type": "code",
        "id": "yuFU5bd4_Efb",
        "colab": {}
      },
      "source": [
        "# Table 4: Temporal gap features analysis\n",
        "\n",
        "for K, acc in task1_accuracy_with_time_gap.items():\n",
        "    print(K, acc)"
      ],
      "execution_count": 0,
      "outputs": []
    },
    {
      "cell_type": "code",
      "metadata": {
        "colab_type": "code",
        "id": "8stSxGNbNPo9",
        "colab": {}
      },
      "source": [
        ""
      ],
      "execution_count": 0,
      "outputs": []
    }
  ]
}